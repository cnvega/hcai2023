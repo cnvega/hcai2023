{
 "cells": [
  {
   "cell_type": "markdown",
   "id": "3fd3e482",
   "metadata": {},
   "source": [
    "# Tuplas\n",
    "\n",
    "Las tuplas son objetos similares a las listas (compuestos y ordenados), PERO son INMUTABLES."
   ]
  },
  {
   "cell_type": "code",
   "execution_count": 1,
   "id": "59255a8c",
   "metadata": {},
   "outputs": [],
   "source": [
    "# Ejemplo de tupla:\n",
    "\n",
    "t1 = (1,2,3)"
   ]
  },
  {
   "cell_type": "code",
   "execution_count": 2,
   "id": "fd9aba35",
   "metadata": {},
   "outputs": [
    {
     "data": {
      "text/plain": [
       "tuple"
      ]
     },
     "execution_count": 2,
     "metadata": {},
     "output_type": "execute_result"
    }
   ],
   "source": [
    "type(t1)"
   ]
  },
  {
   "cell_type": "code",
   "execution_count": 3,
   "id": "8a781c2a",
   "metadata": {},
   "outputs": [
    {
     "data": {
      "text/plain": [
       "1"
      ]
     },
     "execution_count": 3,
     "metadata": {},
     "output_type": "execute_result"
    }
   ],
   "source": [
    "# puedo usar indexación (de la misma forma que las listas)\n",
    "t1[0]"
   ]
  },
  {
   "cell_type": "code",
   "execution_count": 4,
   "id": "64febcbd",
   "metadata": {},
   "outputs": [
    {
     "data": {
      "text/plain": [
       "(2, 3)"
      ]
     },
     "execution_count": 4,
     "metadata": {},
     "output_type": "execute_result"
    }
   ],
   "source": [
    "t1[1:]"
   ]
  },
  {
   "cell_type": "code",
   "execution_count": 5,
   "id": "a2712971",
   "metadata": {},
   "outputs": [
    {
     "data": {
      "text/plain": [
       "2"
      ]
     },
     "execution_count": 5,
     "metadata": {},
     "output_type": "execute_result"
    }
   ],
   "source": [
    "t1[-2]"
   ]
  },
  {
   "cell_type": "code",
   "execution_count": 6,
   "id": "35ae3294",
   "metadata": {},
   "outputs": [
    {
     "ename": "TypeError",
     "evalue": "'tuple' object does not support item assignment",
     "output_type": "error",
     "traceback": [
      "\u001b[0;31m---------------------------------------------------------------------------\u001b[0m",
      "\u001b[0;31mTypeError\u001b[0m                                 Traceback (most recent call last)",
      "Cell \u001b[0;32mIn[6], line 2\u001b[0m\n\u001b[1;32m      1\u001b[0m \u001b[38;5;66;03m# verifiquemos si la podemos modificar:\u001b[39;00m\n\u001b[0;32m----> 2\u001b[0m \u001b[43mt1\u001b[49m\u001b[43m[\u001b[49m\u001b[38;5;241;43m0\u001b[39;49m\u001b[43m]\u001b[49m \u001b[38;5;241m=\u001b[39m \u001b[38;5;241m0\u001b[39m\n",
      "\u001b[0;31mTypeError\u001b[0m: 'tuple' object does not support item assignment"
     ]
    }
   ],
   "source": [
    "# verifiquemos si la podemos modificar:\n",
    "t1[0] = 0"
   ]
  },
  {
   "cell_type": "code",
   "execution_count": 7,
   "id": "de6ed948",
   "metadata": {},
   "outputs": [
    {
     "data": {
      "text/plain": [
       "(1, 2, 3)"
      ]
     },
     "execution_count": 7,
     "metadata": {},
     "output_type": "execute_result"
    }
   ],
   "source": [
    "# Las tuplas también se pueden definir solo con las comas:\n",
    "t2 = 1,2,3\n",
    "t2"
   ]
  },
  {
   "cell_type": "code",
   "execution_count": 8,
   "id": "7a5bfafd",
   "metadata": {},
   "outputs": [
    {
     "data": {
      "text/plain": [
       "(0, 'hola', [])"
      ]
     },
     "execution_count": 8,
     "metadata": {},
     "output_type": "execute_result"
    }
   ],
   "source": [
    "# que pueden contener las tuplas?\n",
    "t3 = (0, \"hola\", [])\n",
    "t3"
   ]
  },
  {
   "cell_type": "markdown",
   "id": "14fd2daa",
   "metadata": {},
   "source": [
    "**Pueden contener cualquier cosa!**"
   ]
  },
  {
   "cell_type": "code",
   "execution_count": 9,
   "id": "238009c1",
   "metadata": {},
   "outputs": [],
   "source": [
    "# y se pueden modificar los objetos mutables pertenecientes a la tupla?\n",
    "t3[2].append(\"oso\")"
   ]
  },
  {
   "cell_type": "code",
   "execution_count": 10,
   "id": "5e1373d3",
   "metadata": {},
   "outputs": [
    {
     "data": {
      "text/plain": [
       "(0, 'hola', ['oso'])"
      ]
     },
     "execution_count": 10,
     "metadata": {},
     "output_type": "execute_result"
    }
   ],
   "source": [
    "# si! porque la tupla define inmutabilidad en las referencias contenidas.\n",
    "t3"
   ]
  },
  {
   "cell_type": "code",
   "execution_count": 11,
   "id": "4a5124a2",
   "metadata": {},
   "outputs": [
    {
     "data": {
      "text/plain": [
       "((0, 'hola', ['oso']), 45, 'mundo cruel')"
      ]
     },
     "execution_count": 11,
     "metadata": {},
     "output_type": "execute_result"
    }
   ],
   "source": [
    "# las tuplas también se puden anidar:\n",
    "t4 = t3, 45, \"mundo cruel\"\n",
    "t4"
   ]
  },
  {
   "cell_type": "code",
   "execution_count": 12,
   "id": "0235436a",
   "metadata": {},
   "outputs": [
    {
     "data": {
      "text/plain": [
       "['__add__',\n",
       " '__class__',\n",
       " '__class_getitem__',\n",
       " '__contains__',\n",
       " '__delattr__',\n",
       " '__dir__',\n",
       " '__doc__',\n",
       " '__eq__',\n",
       " '__format__',\n",
       " '__ge__',\n",
       " '__getattribute__',\n",
       " '__getitem__',\n",
       " '__getnewargs__',\n",
       " '__getstate__',\n",
       " '__gt__',\n",
       " '__hash__',\n",
       " '__init__',\n",
       " '__init_subclass__',\n",
       " '__iter__',\n",
       " '__le__',\n",
       " '__len__',\n",
       " '__lt__',\n",
       " '__mul__',\n",
       " '__ne__',\n",
       " '__new__',\n",
       " '__reduce__',\n",
       " '__reduce_ex__',\n",
       " '__repr__',\n",
       " '__rmul__',\n",
       " '__setattr__',\n",
       " '__sizeof__',\n",
       " '__str__',\n",
       " '__subclasshook__',\n",
       " 'count',\n",
       " 'index']"
      ]
     },
     "execution_count": 12,
     "metadata": {},
     "output_type": "execute_result"
    }
   ],
   "source": [
    "# Veamos los métodos de las tuplas:\n",
    "dir(t1)"
   ]
  },
  {
   "cell_type": "code",
   "execution_count": 13,
   "id": "6ccb062f",
   "metadata": {},
   "outputs": [
    {
     "name": "stdout",
     "output_type": "stream",
     "text": [
      "Help on built-in function count:\n",
      "\n",
      "count(value, /) method of builtins.tuple instance\n",
      "    Return number of occurrences of value.\n",
      "\n"
     ]
    }
   ],
   "source": [
    "help(t1.count)"
   ]
  },
  {
   "cell_type": "code",
   "execution_count": 14,
   "id": "875c71a8",
   "metadata": {},
   "outputs": [
    {
     "data": {
      "text/plain": [
       "1"
      ]
     },
     "execution_count": 14,
     "metadata": {},
     "output_type": "execute_result"
    }
   ],
   "source": [
    "t1.count(2)"
   ]
  },
  {
   "cell_type": "code",
   "execution_count": 15,
   "id": "c46cc087",
   "metadata": {},
   "outputs": [
    {
     "name": "stdout",
     "output_type": "stream",
     "text": [
      "Help on built-in function index:\n",
      "\n",
      "index(value, start=0, stop=9223372036854775807, /) method of builtins.tuple instance\n",
      "    Return first index of value.\n",
      "    \n",
      "    Raises ValueError if the value is not present.\n",
      "\n"
     ]
    }
   ],
   "source": [
    "help(t1.index)"
   ]
  },
  {
   "cell_type": "code",
   "execution_count": 16,
   "id": "a49781c9",
   "metadata": {},
   "outputs": [
    {
     "data": {
      "text/plain": [
       "1"
      ]
     },
     "execution_count": 16,
     "metadata": {},
     "output_type": "execute_result"
    }
   ],
   "source": [
    "t1.index(2)"
   ]
  },
  {
   "cell_type": "markdown",
   "id": "2a12f2f6",
   "metadata": {},
   "source": [
    "*Si tienen tan pocos métodos... entonces para qué las uso?*"
   ]
  },
  {
   "cell_type": "markdown",
   "id": "5fd8c610",
   "metadata": {},
   "source": [
    "En general, las listas se usan para Iterar (loop, por ejemplo) distintos elementos, en cambio las tuplas se utilizan para **(des)empaquetación**."
   ]
  },
  {
   "cell_type": "code",
   "execution_count": 17,
   "id": "481cd4a6",
   "metadata": {},
   "outputs": [
    {
     "data": {
      "text/plain": [
       "('hola', 4, ((0, 'hola', ['oso']), 45, 'mundo cruel'))"
      ]
     },
     "execution_count": 17,
     "metadata": {},
     "output_type": "execute_result"
    }
   ],
   "source": [
    "# empaquetar objetos:\n",
    "t5 = \"hola\", 4, t4\n",
    "t5"
   ]
  },
  {
   "cell_type": "code",
   "execution_count": 18,
   "id": "43d3f46e",
   "metadata": {},
   "outputs": [
    {
     "data": {
      "text/plain": [
       "(0, 'hola', ['oso'])"
      ]
     },
     "execution_count": 18,
     "metadata": {},
     "output_type": "execute_result"
    }
   ],
   "source": [
    "# y desempaquetar:\n",
    "t3"
   ]
  },
  {
   "cell_type": "code",
   "execution_count": 19,
   "id": "7ce12b0d",
   "metadata": {},
   "outputs": [],
   "source": [
    "entero1, string1, lista1 = t3"
   ]
  },
  {
   "cell_type": "markdown",
   "id": "ee9a4b60",
   "metadata": {},
   "source": [
    "Estas definiciones nos permiten hacer asignaciones múltiples de nombres (referencias) en una misma línea. Por ejemplo:"
   ]
  },
  {
   "cell_type": "code",
   "execution_count": 20,
   "id": "c48e075a",
   "metadata": {},
   "outputs": [
    {
     "name": "stdout",
     "output_type": "stream",
     "text": [
      "1 2\n"
     ]
    }
   ],
   "source": [
    "# Declaración y asignación normal: \n",
    "a = 1\n",
    "b = 2\n",
    "print(a, b)"
   ]
  },
  {
   "cell_type": "code",
   "execution_count": 21,
   "id": "02ce5415",
   "metadata": {},
   "outputs": [
    {
     "name": "stdout",
     "output_type": "stream",
     "text": [
      "1 2\n"
     ]
    }
   ],
   "source": [
    "# con asignación múltiple:\n",
    "a, b = 1, 2\n",
    "print(a, b)"
   ]
  },
  {
   "cell_type": "markdown",
   "id": "08ccfcb7",
   "metadata": {},
   "source": [
    "Lo que está a la derecha del operador igual **`=` siempre** se resolverá antes de cualquier asignación. "
   ]
  },
  {
   "cell_type": "code",
   "execution_count": 22,
   "id": "51e1085c",
   "metadata": {},
   "outputs": [],
   "source": [
    "# Para crear tupla vacía: \n",
    "te = ()"
   ]
  },
  {
   "cell_type": "code",
   "execution_count": 23,
   "id": "d91e2c7a",
   "metadata": {},
   "outputs": [],
   "source": [
    "# En cambio, para crear una tupla de 1 elemento:\n",
    "te1 = (1,)"
   ]
  },
  {
   "cell_type": "code",
   "execution_count": 24,
   "id": "e2feace4",
   "metadata": {},
   "outputs": [
    {
     "data": {
      "text/plain": [
       "(1,)"
      ]
     },
     "execution_count": 24,
     "metadata": {},
     "output_type": "execute_result"
    }
   ],
   "source": [
    "te1"
   ]
  },
  {
   "cell_type": "markdown",
   "id": "c849bfe1",
   "metadata": {},
   "source": [
    "# Conjuntos  (sets)\n",
    "\n",
    "Los sets con como listas **pero** sus elementos **no** tienen un orden ni **tampoco** se repiten. "
   ]
  },
  {
   "cell_type": "code",
   "execution_count": 25,
   "id": "9d2e8bbe",
   "metadata": {},
   "outputs": [
    {
     "data": {
      "text/plain": [
       "{1, 3, 5, 7}"
      ]
     },
     "execution_count": 25,
     "metadata": {},
     "output_type": "execute_result"
    }
   ],
   "source": [
    "# Para definir un conjunto usamos set(<lista u otros objeto compuesto>)\n",
    "s1 = set([1, 3, 5, 1, 3, 7])\n",
    "s1"
   ]
  },
  {
   "cell_type": "code",
   "execution_count": 26,
   "id": "204db01f",
   "metadata": {},
   "outputs": [
    {
     "data": {
      "text/plain": [
       "set"
      ]
     },
     "execution_count": 26,
     "metadata": {},
     "output_type": "execute_result"
    }
   ],
   "source": [
    "type(s1)"
   ]
  },
  {
   "cell_type": "code",
   "execution_count": 27,
   "id": "78efe884",
   "metadata": {},
   "outputs": [
    {
     "data": {
      "text/plain": [
       "{1, 3, 5, 7}"
      ]
     },
     "execution_count": 27,
     "metadata": {},
     "output_type": "execute_result"
    }
   ],
   "source": [
    "# Otra forma de definir conjuntos es usando las llaves {}\n",
    "s1 = {1, 3, 5, 1, 3, 7}\n",
    "s1"
   ]
  },
  {
   "cell_type": "code",
   "execution_count": 28,
   "id": "212c1155",
   "metadata": {},
   "outputs": [
    {
     "data": {
      "text/plain": [
       "True"
      ]
     },
     "execution_count": 28,
     "metadata": {},
     "output_type": "execute_result"
    }
   ],
   "source": [
    "# El primer uso eficiente de los set, es la identificación de elementos que están en el conjunto:\n",
    "3 in s1"
   ]
  },
  {
   "cell_type": "code",
   "execution_count": 29,
   "id": "e6fba543",
   "metadata": {},
   "outputs": [
    {
     "data": {
      "text/plain": [
       "False"
      ]
     },
     "execution_count": 29,
     "metadata": {},
     "output_type": "execute_result"
    }
   ],
   "source": [
    "8 in s1"
   ]
  },
  {
   "cell_type": "code",
   "execution_count": 32,
   "id": "e8eaf5a1",
   "metadata": {},
   "outputs": [
    {
     "ename": "TypeError",
     "evalue": "set expected at most 1 argument, got 2",
     "output_type": "error",
     "traceback": [
      "\u001b[0;31m---------------------------------------------------------------------------\u001b[0m",
      "\u001b[0;31mTypeError\u001b[0m                                 Traceback (most recent call last)",
      "Cell \u001b[0;32mIn[32], line 2\u001b[0m\n\u001b[1;32m      1\u001b[0m \u001b[38;5;66;03m# Se pueden generar varios objetos en set()?\u001b[39;00m\n\u001b[0;32m----> 2\u001b[0m s2 \u001b[38;5;241m=\u001b[39m \u001b[38;5;28;43mset\u001b[39;49m\u001b[43m(\u001b[49m\u001b[43m[\u001b[49m\u001b[38;5;241;43m3\u001b[39;49m\u001b[43m,\u001b[49m\u001b[38;5;241;43m5\u001b[39;49m\u001b[43m,\u001b[49m\u001b[38;5;241;43m6\u001b[39;49m\u001b[43m]\u001b[49m\u001b[43m,\u001b[49m\u001b[43m \u001b[49m\u001b[38;5;124;43m\"\u001b[39;49m\u001b[38;5;124;43mhola\u001b[39;49m\u001b[38;5;124;43m\"\u001b[39;49m\u001b[43m)\u001b[49m\n",
      "\u001b[0;31mTypeError\u001b[0m: set expected at most 1 argument, got 2"
     ]
    }
   ],
   "source": [
    "# Se pueden generar varios objetos en set()?\n",
    "s2 = set([3,5,6], \"hola\")"
   ]
  },
  {
   "cell_type": "markdown",
   "id": "ca5e2db5",
   "metadata": {},
   "source": [
    "No... set recibe solo 1 objeto compuesto... y no puede comparar listas."
   ]
  },
  {
   "cell_type": "code",
   "execution_count": 33,
   "id": "46c25984",
   "metadata": {},
   "outputs": [
    {
     "data": {
      "text/plain": [
       "{1, 2, 7, 8}"
      ]
     },
     "execution_count": 33,
     "metadata": {},
     "output_type": "execute_result"
    }
   ],
   "source": [
    "# Puedo transformar una lista en conjunto:\n",
    "lista = [1,2,7,8,2]\n",
    "sl1 = set(lista)\n",
    "sl1"
   ]
  },
  {
   "cell_type": "code",
   "execution_count": 34,
   "id": "2d0513e5",
   "metadata": {},
   "outputs": [
    {
     "data": {
      "text/plain": [
       "[8, 1, 2, 7]"
      ]
     },
     "execution_count": 34,
     "metadata": {},
     "output_type": "execute_result"
    }
   ],
   "source": [
    "# y también al reves!\n",
    "list(sl1)"
   ]
  },
  {
   "cell_type": "code",
   "execution_count": 35,
   "id": "de0114a6",
   "metadata": {},
   "outputs": [
    {
     "data": {
      "text/plain": [
       "(1, 2, 7, 8, 2)"
      ]
     },
     "execution_count": 35,
     "metadata": {},
     "output_type": "execute_result"
    }
   ],
   "source": [
    "# y las tuplas? \n",
    "tl1 = tuple(lista)\n",
    "tl1"
   ]
  },
  {
   "cell_type": "code",
   "execution_count": 36,
   "id": "1debfc6a",
   "metadata": {},
   "outputs": [
    {
     "data": {
      "text/plain": [
       "([1, 2, 7, 8, 2], {1, 2, 7, 8})"
      ]
     },
     "execution_count": 36,
     "metadata": {},
     "output_type": "execute_result"
    }
   ],
   "source": [
    "list(tl1), set(tl1)"
   ]
  },
  {
   "cell_type": "markdown",
   "id": "3a6566b2",
   "metadata": {},
   "source": [
    "Algunos ejemplos de operaciones de conjuntos:"
   ]
  },
  {
   "cell_type": "code",
   "execution_count": 37,
   "id": "47141c64",
   "metadata": {},
   "outputs": [
    {
     "data": {
      "text/plain": [
       "({'a', 'b', 'c', 'd', 'r'}, {'a', 'c', 'l', 'm', 'z'})"
      ]
     },
     "execution_count": 37,
     "metadata": {},
     "output_type": "execute_result"
    }
   ],
   "source": [
    "a = set(\"abracadabra\")\n",
    "b = set(\"alacazam\")\n",
    "a, b"
   ]
  },
  {
   "cell_type": "code",
   "execution_count": 38,
   "id": "d14be98d",
   "metadata": {},
   "outputs": [
    {
     "data": {
      "text/plain": [
       "{'b', 'd', 'r'}"
      ]
     },
     "execution_count": 38,
     "metadata": {},
     "output_type": "execute_result"
    }
   ],
   "source": [
    "# Puedo \"restar\" conjuntos (elementos de a que no estan en b)\n",
    "a - b"
   ]
  },
  {
   "cell_type": "code",
   "execution_count": 39,
   "id": "b5fa9802",
   "metadata": {},
   "outputs": [
    {
     "data": {
      "text/plain": [
       "{'a', 'c'}"
      ]
     },
     "execution_count": 39,
     "metadata": {},
     "output_type": "execute_result"
    }
   ],
   "source": [
    "# Puedo ver los elementos que pertenecen a \"a\" y \"b\"\n",
    "a & b"
   ]
  },
  {
   "cell_type": "code",
   "execution_count": 40,
   "id": "89e07914",
   "metadata": {},
   "outputs": [
    {
     "data": {
      "text/plain": [
       "{'b', 'd', 'l', 'm', 'r', 'z'}"
      ]
     },
     "execution_count": 40,
     "metadata": {},
     "output_type": "execute_result"
    }
   ],
   "source": [
    "# Puedo ver los elementos que estan en \"a\" o \"b\", pero no ambos\n",
    "a ^ b"
   ]
  },
  {
   "cell_type": "code",
   "execution_count": 41,
   "id": "649cf955",
   "metadata": {},
   "outputs": [
    {
     "data": {
      "text/plain": [
       "{'a', 'b', 'c', 'd', 'l', 'm', 'r', 'z'}"
      ]
     },
     "execution_count": 41,
     "metadata": {},
     "output_type": "execute_result"
    }
   ],
   "source": [
    "# Elementos en \"a\" o \"b\" o ambos.\n",
    "a | b "
   ]
  },
  {
   "cell_type": "code",
   "execution_count": 42,
   "id": "5cda09f3",
   "metadata": {},
   "outputs": [
    {
     "data": {
      "text/plain": [
       "{'a', 'b', 'c', 'd', 'l', 'm', 'r', 'z'}"
      ]
     },
     "execution_count": 42,
     "metadata": {},
     "output_type": "execute_result"
    }
   ],
   "source": [
    "# Finalmente, si quiero combinar conjuntos debo crear uno nuevo:\n",
    "c = set(list(a)+list(b))\n",
    "c"
   ]
  },
  {
   "cell_type": "markdown",
   "id": "9c63558e",
   "metadata": {},
   "source": [
    "# Diccionarios \n",
    "\n",
    "Los diccionarios con \"como listas\", **pero** asignan un **nombre** a cada objeto en vez de un índice. "
   ]
  },
  {
   "cell_type": "code",
   "execution_count": 43,
   "id": "c4894ec8",
   "metadata": {},
   "outputs": [
    {
     "data": {
      "text/plain": [
       "{'pan': 10, 'queso': 0.5, 'palta': 'No me alcanza', 'huevos': 12}"
      ]
     },
     "execution_count": 43,
     "metadata": {},
     "output_type": "execute_result"
    }
   ],
   "source": [
    "# Ejemplo\n",
    "d1 = {\"pan\":10, \"queso\":0.5, \"palta\":\"No me alcanza\", \"huevos\":12}\n",
    "d1"
   ]
  },
  {
   "cell_type": "code",
   "execution_count": 44,
   "id": "e2929368",
   "metadata": {},
   "outputs": [
    {
     "data": {
      "text/plain": [
       "'No me alcanza'"
      ]
     },
     "execution_count": 44,
     "metadata": {},
     "output_type": "execute_result"
    }
   ],
   "source": [
    "d1[\"palta\"]"
   ]
  },
  {
   "cell_type": "code",
   "execution_count": 45,
   "id": "f0030c69",
   "metadata": {},
   "outputs": [
    {
     "data": {
      "text/plain": [
       "10"
      ]
     },
     "execution_count": 45,
     "metadata": {},
     "output_type": "execute_result"
    }
   ],
   "source": [
    "d1[\"pan\"]"
   ]
  },
  {
   "cell_type": "code",
   "execution_count": 46,
   "id": "ee72e05c",
   "metadata": {},
   "outputs": [
    {
     "data": {
      "text/plain": [
       "10"
      ]
     },
     "execution_count": 46,
     "metadata": {},
     "output_type": "execute_result"
    }
   ],
   "source": [
    "# puedo usar referencias como keys (nombres o índices):\n",
    "s = \"pan\"\n",
    "d1[s]"
   ]
  },
  {
   "cell_type": "code",
   "execution_count": 47,
   "id": "7b61bf67",
   "metadata": {},
   "outputs": [],
   "source": [
    "# un uso común en ciencia es guardar propiedades con sus nombres:\n",
    "datos = {\"masas\":[56,34,21], \"brillo\":[-12, -15, -10]}"
   ]
  },
  {
   "cell_type": "code",
   "execution_count": 48,
   "id": "314aa586",
   "metadata": {},
   "outputs": [
    {
     "data": {
      "text/plain": [
       "[56, 34, 21]"
      ]
     },
     "execution_count": 48,
     "metadata": {},
     "output_type": "execute_result"
    }
   ],
   "source": [
    "datos[\"masas\"]"
   ]
  },
  {
   "cell_type": "code",
   "execution_count": 49,
   "id": "7f74271e",
   "metadata": {},
   "outputs": [
    {
     "data": {
      "text/plain": [
       "dict_keys(['masas', 'brillo'])"
      ]
     },
     "execution_count": 49,
     "metadata": {},
     "output_type": "execute_result"
    }
   ],
   "source": [
    "# puedo obtener los keys (nombres) mediante:\n",
    "datos.keys()"
   ]
  },
  {
   "cell_type": "code",
   "execution_count": 50,
   "id": "c26d1e75",
   "metadata": {},
   "outputs": [],
   "source": [
    "# y agrego más cosas simplemente con:\n",
    "d1[\"te\"] = \"2 bolsas\""
   ]
  },
  {
   "cell_type": "code",
   "execution_count": 54,
   "id": "97092da0",
   "metadata": {},
   "outputs": [
    {
     "data": {
      "text/plain": [
       "{'pan': 10,\n",
       " 'queso': 0.5,\n",
       " 'palta': 'No me alcanza',\n",
       " 'huevos': 12,\n",
       " 'te': '2 bolsas'}"
      ]
     },
     "execution_count": 54,
     "metadata": {},
     "output_type": "execute_result"
    }
   ],
   "source": [
    "# Fuera de jupyter, es necesario usar print(d1)\n",
    "d1"
   ]
  },
  {
   "cell_type": "markdown",
   "id": "f60fc515",
   "metadata": {},
   "source": [
    "### Remover con del\n",
    "\n",
    "Para remover elementos de los objetos compuestos, se puede utilizar la instrucción de Python `del`, que borra cualquier referencia e instancia definida en el kernel"
   ]
  },
  {
   "cell_type": "code",
   "execution_count": 55,
   "id": "bcf9e18c",
   "metadata": {},
   "outputs": [
    {
     "data": {
      "text/plain": [
       "{'pan': 10, 'queso': 0.5, 'palta': 'No me alcanza', 'huevos': 12}"
      ]
     },
     "execution_count": 55,
     "metadata": {},
     "output_type": "execute_result"
    }
   ],
   "source": [
    "# ejemplo, para borrar un elemento de un diccionario (también en listas!):\n",
    "del d1[\"te\"]\n",
    "d1"
   ]
  },
  {
   "cell_type": "code",
   "execution_count": 56,
   "id": "4192721a",
   "metadata": {},
   "outputs": [
    {
     "ename": "NameError",
     "evalue": "name 'd1' is not defined",
     "output_type": "error",
     "traceback": [
      "\u001b[0;31m---------------------------------------------------------------------------\u001b[0m",
      "\u001b[0;31mNameError\u001b[0m                                 Traceback (most recent call last)",
      "Cell \u001b[0;32mIn[56], line 3\u001b[0m\n\u001b[1;32m      1\u001b[0m \u001b[38;5;66;03m# Puede borrar objetos completos:\u001b[39;00m\n\u001b[1;32m      2\u001b[0m \u001b[38;5;28;01mdel\u001b[39;00m d1\n\u001b[0;32m----> 3\u001b[0m \u001b[43md1\u001b[49m\n",
      "\u001b[0;31mNameError\u001b[0m: name 'd1' is not defined"
     ]
    }
   ],
   "source": [
    "# Puede borrar objetos completos:\n",
    "del d1\n",
    "d1"
   ]
  },
  {
   "cell_type": "code",
   "execution_count": 57,
   "id": "bf0cf056",
   "metadata": {},
   "outputs": [
    {
     "ename": "NameError",
     "evalue": "name 'var' is not defined",
     "output_type": "error",
     "traceback": [
      "\u001b[0;31m---------------------------------------------------------------------------\u001b[0m",
      "\u001b[0;31mNameError\u001b[0m                                 Traceback (most recent call last)",
      "Cell \u001b[0;32mIn[57], line 4\u001b[0m\n\u001b[1;32m      2\u001b[0m var \u001b[38;5;241m=\u001b[39m \u001b[38;5;241m1\u001b[39m\n\u001b[1;32m      3\u001b[0m \u001b[38;5;28;01mdel\u001b[39;00m var\n\u001b[0;32m----> 4\u001b[0m \u001b[38;5;28mprint\u001b[39m(\u001b[43mvar\u001b[49m)\n",
      "\u001b[0;31mNameError\u001b[0m: name 'var' is not defined"
     ]
    }
   ],
   "source": [
    "# y esto sirve para cualquier objeto de Python\n",
    "var = 1\n",
    "del var\n",
    "print(var)"
   ]
  },
  {
   "cell_type": "code",
   "execution_count": null,
   "id": "d84807b0",
   "metadata": {},
   "outputs": [],
   "source": []
  }
 ],
 "metadata": {
  "kernelspec": {
   "display_name": "Python 3 (ipykernel)",
   "language": "python",
   "name": "python3"
  },
  "language_info": {
   "codemirror_mode": {
    "name": "ipython",
    "version": 3
   },
   "file_extension": ".py",
   "mimetype": "text/x-python",
   "name": "python",
   "nbconvert_exporter": "python",
   "pygments_lexer": "ipython3",
   "version": "3.11.3"
  }
 },
 "nbformat": 4,
 "nbformat_minor": 5
}
