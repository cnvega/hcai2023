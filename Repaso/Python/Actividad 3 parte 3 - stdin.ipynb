{
 "cells": [
  {
   "cell_type": "markdown",
   "id": "77f59334",
   "metadata": {},
   "source": [
    "## Entrada estándar de Python"
   ]
  },
  {
   "cell_type": "code",
   "execution_count": 6,
   "id": "ce3209e4",
   "metadata": {},
   "outputs": [
    {
     "name": "stdout",
     "output_type": "stream",
     "text": [
      "Ingresa un número\n"
     ]
    },
    {
     "data": {
      "text/plain": [
       "''"
      ]
     },
     "execution_count": 6,
     "metadata": {},
     "output_type": "execute_result"
    }
   ],
   "source": [
    "input(\"Ingresa un número\")"
   ]
  },
  {
   "cell_type": "markdown",
   "id": "74f88c0d",
   "metadata": {},
   "source": [
    "En python, `input` me permite escuchar el stdin de la consola (o la linda cajita de texto que aparece en jupyter notebook), y lo ingresado se transmite al código como un **valor de retorno**. "
   ]
  },
  {
   "cell_type": "code",
   "execution_count": 2,
   "id": "ae587f4e",
   "metadata": {},
   "outputs": [
    {
     "name": "stdout",
     "output_type": "stream",
     "text": [
      "Ingresa un número: 3\n",
      "3\n"
     ]
    }
   ],
   "source": [
    "var1 = input(\"Ingresa un número: \")\n",
    "print(var1)"
   ]
  },
  {
   "cell_type": "code",
   "execution_count": 3,
   "id": "da3af31a",
   "metadata": {},
   "outputs": [
    {
     "data": {
      "text/plain": [
       "str"
      ]
     },
     "execution_count": 3,
     "metadata": {},
     "output_type": "execute_result"
    }
   ],
   "source": [
    "# y esta variable la puedo usar como se me antoje, y siempre es un string\n",
    "type(var1)"
   ]
  },
  {
   "cell_type": "code",
   "execution_count": 4,
   "id": "529e01e7",
   "metadata": {},
   "outputs": [
    {
     "data": {
      "text/plain": [
       "True"
      ]
     },
     "execution_count": 4,
     "metadata": {},
     "output_type": "execute_result"
    }
   ],
   "source": [
    "# Entonces, para usarla tengo que controlar que corresponda al dato deseado\n",
    "var1.isnumeric()"
   ]
  },
  {
   "cell_type": "code",
   "execution_count": 5,
   "id": "947ebc67",
   "metadata": {},
   "outputs": [],
   "source": [
    "# y luego debo convertir para usar:\n",
    "# para enteros:\n",
    "var_int = int(var1)"
   ]
  },
  {
   "cell_type": "code",
   "execution_count": 7,
   "id": "4426e453",
   "metadata": {},
   "outputs": [
    {
     "data": {
      "text/plain": [
       "int"
      ]
     },
     "execution_count": 7,
     "metadata": {},
     "output_type": "execute_result"
    }
   ],
   "source": [
    "type(var_int)"
   ]
  },
  {
   "cell_type": "code",
   "execution_count": 11,
   "id": "1c51dd21",
   "metadata": {},
   "outputs": [
    {
     "name": "stdout",
     "output_type": "stream",
     "text": [
      "El tipo de esta nueva es:  <class 'float'>  y vale:  3.0\n"
     ]
    }
   ],
   "source": [
    "# para flotantes:\n",
    "var_float = float(var1)\n",
    "print(\"El tipo de esta nueva es: \", type(var_float), \" y vale: \", var_float)"
   ]
  },
  {
   "cell_type": "code",
   "execution_count": null,
   "id": "45d4866a",
   "metadata": {},
   "outputs": [],
   "source": []
  }
 ],
 "metadata": {
  "kernelspec": {
   "display_name": "Python 3 (ipykernel)",
   "language": "python",
   "name": "python3"
  },
  "language_info": {
   "codemirror_mode": {
    "name": "ipython",
    "version": 3
   },
   "file_extension": ".py",
   "mimetype": "text/x-python",
   "name": "python",
   "nbconvert_exporter": "python",
   "pygments_lexer": "ipython3",
   "version": "3.11.3"
  }
 },
 "nbformat": 4,
 "nbformat_minor": 5
}
