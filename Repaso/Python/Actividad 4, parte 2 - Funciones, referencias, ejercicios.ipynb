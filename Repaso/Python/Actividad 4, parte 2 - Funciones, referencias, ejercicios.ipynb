{
 "cells": [
  {
   "cell_type": "markdown",
   "id": "c48d890a",
   "metadata": {},
   "source": [
    "## Actividad 4, parte 2\n",
    "\n",
    "Acá estudiaremos la definición y uso de las funciones en Python. Estas constituyen la herramienta de control de flujo más utilizada del lenguaje, y por lo tanto, una de las más útiles.\n",
    "\n",
    "### Funciones"
   ]
  },
  {
   "cell_type": "markdown",
   "id": "3aeb10d2",
   "metadata": {},
   "source": [
    "Me sirven para encapsular código (instrucciones) que puedo repetir de forma no secuencial según necesidad, y que (pueden) tener variaciones identificables. La sintaxis utiliza la palabra reservada **def**."
   ]
  },
  {
   "cell_type": "code",
   "execution_count": 1,
   "id": "38ccc9aa",
   "metadata": {},
   "outputs": [],
   "source": [
    "def hola_mundo():\n",
    "    print(\"hola mundo\")\n",
    "    print(\"adios\")\n"
   ]
  },
  {
   "cell_type": "code",
   "execution_count": 2,
   "id": "4d53d36a",
   "metadata": {},
   "outputs": [
    {
     "name": "stdout",
     "output_type": "stream",
     "text": [
      "hola mundo\n",
      "adios\n"
     ]
    }
   ],
   "source": [
    "# Para ejecutar las funciones, las llamamos por su nombre más ():\n",
    "hola_mundo()"
   ]
  },
  {
   "cell_type": "markdown",
   "id": "a776d43a",
   "metadata": {},
   "source": [
    "Python nos entrega una estrategia especial para documentar automáticamente una función, mediante una cadena literal luego de su nombre:"
   ]
  },
  {
   "cell_type": "code",
   "execution_count": 3,
   "id": "47e8be90",
   "metadata": {},
   "outputs": [],
   "source": [
    "def saludo_genial():\n",
    "    \"\"\"Esta funcion es un ejemplo simple y obvio de la clase MNPA2023\"\"\"  # esto se llama docstring\n",
    "    print(\"hola mundo\")\n",
    "    "
   ]
  },
  {
   "cell_type": "code",
   "execution_count": 4,
   "id": "64e08147",
   "metadata": {},
   "outputs": [
    {
     "name": "stdout",
     "output_type": "stream",
     "text": [
      "Help on function saludo_genial in module __main__:\n",
      "\n",
      "saludo_genial()\n",
      "    Esta funcion es un ejemplo simple y obvio de la clase MNPA2023\n",
      "\n"
     ]
    }
   ],
   "source": [
    "help(saludo_genial)"
   ]
  },
  {
   "cell_type": "code",
   "execution_count": 7,
   "id": "443e059f",
   "metadata": {},
   "outputs": [
    {
     "data": {
      "text/plain": [
       "['__annotations__',\n",
       " '__builtins__',\n",
       " '__call__',\n",
       " '__class__',\n",
       " '__closure__',\n",
       " '__code__',\n",
       " '__defaults__',\n",
       " '__delattr__',\n",
       " '__dict__',\n",
       " '__dir__',\n",
       " '__doc__',\n",
       " '__eq__',\n",
       " '__format__',\n",
       " '__ge__',\n",
       " '__get__',\n",
       " '__getattribute__',\n",
       " '__getstate__',\n",
       " '__globals__',\n",
       " '__gt__',\n",
       " '__hash__',\n",
       " '__init__',\n",
       " '__init_subclass__',\n",
       " '__kwdefaults__',\n",
       " '__le__',\n",
       " '__lt__',\n",
       " '__module__',\n",
       " '__name__',\n",
       " '__ne__',\n",
       " '__new__',\n",
       " '__qualname__',\n",
       " '__reduce__',\n",
       " '__reduce_ex__',\n",
       " '__repr__',\n",
       " '__setattr__',\n",
       " '__sizeof__',\n",
       " '__str__',\n",
       " '__subclasshook__']"
      ]
     },
     "execution_count": 7,
     "metadata": {},
     "output_type": "execute_result"
    }
   ],
   "source": [
    "# las funciones en python también son objetos, por lo tanto tienen \n",
    "# métodos (y atributos) asociados a ellas de forma automática:\n",
    "dir(saludo_genial)"
   ]
  },
  {
   "cell_type": "code",
   "execution_count": 8,
   "id": "137bfefa",
   "metadata": {},
   "outputs": [
    {
     "data": {
      "text/plain": [
       "'Esta funcion es un ejemplo simple y obvio de la clase MNPA2023'"
      ]
     },
     "execution_count": 8,
     "metadata": {},
     "output_type": "execute_result"
    }
   ],
   "source": [
    "# Por ejemplo, la ayuda de mi función se guarda automáticamente en su attributo __doc__:\n",
    "saludo_genial.__doc__"
   ]
  },
  {
   "cell_type": "code",
   "execution_count": 9,
   "id": "5b95cd5e",
   "metadata": {},
   "outputs": [
    {
     "name": "stdout",
     "output_type": "stream",
     "text": [
      "hola mundo\n"
     ]
    }
   ],
   "source": [
    "# incluso, le puedo cambiar el nombre:\n",
    "s = saludo_genial\n",
    "s()"
   ]
  },
  {
   "cell_type": "markdown",
   "id": "dfcede21",
   "metadata": {},
   "source": [
    "Dentro de cada función, Python genera una nueva tabla de referencias (nombres de objetos) que deja de existir al finalizar la ejecución de la función."
   ]
  },
  {
   "cell_type": "code",
   "execution_count": 17,
   "id": "13b573f0",
   "metadata": {},
   "outputs": [
    {
     "name": "stdout",
     "output_type": "stream",
     "text": [
      "var1= 1\n",
      "var1= 1\n"
     ]
    }
   ],
   "source": [
    "var1 = 1\n",
    "\n",
    "def variables_escondidas():\n",
    "    var2 = 2\n",
    "    var1 = 3\n",
    "\n",
    "## Si intentara acceder a var2 antes de llamar a la función, no funcionaría\n",
    "#print(\"var1=\", var1, \"var2=\", var2)\n",
    "\n",
    "print(\"var1=\", var1)\n",
    "variables_escondidas()\n",
    "\n",
    "## Si intentara leer var2 luego de llamara, tampoco funcionaría porque var2 se \n",
    "## destruye luego de terminar la ejecución de la función.\n",
    "#print(\"var1=\", var1, \"var2=\", var2)\n",
    "print(\"var1=\", var1)"
   ]
  },
  {
   "cell_type": "markdown",
   "id": "d5e19896",
   "metadata": {},
   "source": [
    "Entonces, para \"comunicarme\" con las funciones, debo utilizar los argumentos de entrada y los retornos de las mismas."
   ]
  },
  {
   "cell_type": "code",
   "execution_count": 18,
   "id": "0c7a3e1a",
   "metadata": {},
   "outputs": [],
   "source": [
    "# Ejemplo de función con argumentos:\n",
    "def saludo_incompleto(peluche):\n",
    "    s = \"hola \"+str(peluche)\n",
    "    print(s)"
   ]
  },
  {
   "cell_type": "code",
   "execution_count": 19,
   "id": "e6783e83",
   "metadata": {},
   "outputs": [
    {
     "name": "stdout",
     "output_type": "stream",
     "text": [
      "hola mundo\n"
     ]
    }
   ],
   "source": [
    "# para llamarla con parámetros (argumentos), se hace:\n",
    "s = \"mundo\"\n",
    "saludo_incompleto(s)"
   ]
  },
  {
   "cell_type": "code",
   "execution_count": 20,
   "id": "eba1108b",
   "metadata": {},
   "outputs": [
    {
     "name": "stdout",
     "output_type": "stream",
     "text": [
      "hola mundo cruel\n"
     ]
    }
   ],
   "source": [
    "# el llamado incluso puede aceptar objetos creados en el mismo llamado. Por ejemplo, esta cadena literal:\n",
    "saludo_incompleto(\"mundo cruel\")"
   ]
  },
  {
   "cell_type": "code",
   "execution_count": 21,
   "id": "a61ded5c",
   "metadata": {},
   "outputs": [
    {
     "name": "stdout",
     "output_type": "stream",
     "text": [
      "hola 3\n"
     ]
    }
   ],
   "source": [
    "saludo_incompleto(3)"
   ]
  },
  {
   "cell_type": "markdown",
   "id": "32d805ff",
   "metadata": {},
   "source": [
    "Por otro lado, el retorno me permite recuperar (retornar) objetos de una función:"
   ]
  },
  {
   "cell_type": "code",
   "execution_count": 22,
   "id": "97fa3c42",
   "metadata": {},
   "outputs": [],
   "source": [
    "def sumar(num1, num2):    # esta es la forma de definir más de un parámetro\n",
    "    s = num1 + num2\n",
    "    return s"
   ]
  },
  {
   "cell_type": "code",
   "execution_count": 23,
   "id": "0104d7f4",
   "metadata": {},
   "outputs": [
    {
     "data": {
      "text/plain": [
       "5"
      ]
     },
     "execution_count": 23,
     "metadata": {},
     "output_type": "execute_result"
    }
   ],
   "source": [
    "sumar(1,4)"
   ]
  },
  {
   "cell_type": "code",
   "execution_count": 24,
   "id": "2d6c0c84",
   "metadata": {},
   "outputs": [
    {
     "data": {
      "text/plain": [
       "'Hola mundo'"
      ]
     },
     "execution_count": 24,
     "metadata": {},
     "output_type": "execute_result"
    }
   ],
   "source": [
    "sumar(\"Hola\", \" mundo\")"
   ]
  },
  {
   "cell_type": "markdown",
   "id": "e6516361",
   "metadata": {},
   "source": [
    "El retorno tiene la misma libertad que los argumentos de entrada. No existe una restricción para el número de objetos que quiero empaquetar"
   ]
  },
  {
   "cell_type": "code",
   "execution_count": 25,
   "id": "d222f427",
   "metadata": {},
   "outputs": [],
   "source": [
    "# Por ejemplo, podemos retornar una lista\n",
    "def separar(s):\n",
    "    r = []\n",
    "    for i in s:\n",
    "        r.append(i)\n",
    "    return r"
   ]
  },
  {
   "cell_type": "code",
   "execution_count": 26,
   "id": "a3778553",
   "metadata": {},
   "outputs": [
    {
     "data": {
      "text/plain": [
       "['p', 'l', 'a', 't', 'a', 'n', 'o']"
      ]
     },
     "execution_count": 26,
     "metadata": {},
     "output_type": "execute_result"
    }
   ],
   "source": [
    "separar(\"platano\")"
   ]
  },
  {
   "cell_type": "code",
   "execution_count": 27,
   "id": "fd006e98",
   "metadata": {},
   "outputs": [],
   "source": [
    "# Podemos retornar una tupla de objetos distintos\n",
    "def juntar(num1, num2, num3):\n",
    "    return num1, num2, num3"
   ]
  },
  {
   "cell_type": "code",
   "execution_count": 28,
   "id": "183552b4",
   "metadata": {},
   "outputs": [
    {
     "data": {
      "text/plain": [
       "(1, 2, 3)"
      ]
     },
     "execution_count": 28,
     "metadata": {},
     "output_type": "execute_result"
    }
   ],
   "source": [
    "juntar(1,2,3)"
   ]
  },
  {
   "cell_type": "code",
   "execution_count": 29,
   "id": "750fe3c9",
   "metadata": {},
   "outputs": [
    {
     "data": {
      "text/plain": [
       "(True, 'hola', None)"
      ]
     },
     "execution_count": 29,
     "metadata": {},
     "output_type": "execute_result"
    }
   ],
   "source": [
    "juntar(True, \"hola\", None)"
   ]
  },
  {
   "cell_type": "markdown",
   "id": "9adfd671",
   "metadata": {},
   "source": [
    "Vamos a probar si es posible modificar un objeto dentro de una función de Python, cuando el objeto se pasa como argumento:"
   ]
  },
  {
   "cell_type": "code",
   "execution_count": 30,
   "id": "2780a6d7",
   "metadata": {},
   "outputs": [],
   "source": [
    "def modificar_lista(l):\n",
    "    l.append(\"MOD\")"
   ]
  },
  {
   "cell_type": "code",
   "execution_count": 31,
   "id": "db799708",
   "metadata": {},
   "outputs": [
    {
     "name": "stdout",
     "output_type": "stream",
     "text": [
      "[1, 2, 3, 'MOD']\n"
     ]
    }
   ],
   "source": [
    "# Definamos una lista afuera y tratemos de modificarla:\n",
    "lll = [1,2,3]\n",
    "modificar_lista(lll)\n",
    "print(lll)"
   ]
  },
  {
   "cell_type": "markdown",
   "id": "ef770c9d",
   "metadata": {},
   "source": [
    "Explicación: Notamos que una lista (y cualquier objeto) que sea pasado como argumento usando su referencia (nombre), **se puede modificar dentro de una función** utilizando los métodos del objeto."
   ]
  },
  {
   "cell_type": "code",
   "execution_count": 33,
   "id": "a4b113f1",
   "metadata": {},
   "outputs": [
    {
     "name": "stdout",
     "output_type": "stream",
     "text": [
      "6\n",
      "5\n"
     ]
    }
   ],
   "source": [
    "# y con variables numéricas lo podemos hacer?\n",
    "def modificar_variable(v):\n",
    "    v = v+1\n",
    "    print(v)\n",
    "\n",
    "vvv = 5\n",
    "modificar_variable(vvv)\n",
    "print(vvv)\n"
   ]
  },
  {
   "cell_type": "markdown",
   "id": "ea8bff91",
   "metadata": {},
   "source": [
    "Explicación: En esta caso, al hacer v = v+1 se está generando una **referencia nueva** llamada v que existe únicamente dentro de la función. Esta deja de existir al terminar esa ejecución."
   ]
  },
  {
   "cell_type": "code",
   "execution_count": 34,
   "id": "5d850fb8",
   "metadata": {},
   "outputs": [
    {
     "name": "stdout",
     "output_type": "stream",
     "text": [
      "[4, 6, 9]\n"
     ]
    }
   ],
   "source": [
    "def borrar_lista(l):\n",
    "    del l\n",
    "\n",
    "l = [4,6,9]\n",
    "borrar_lista(l)\n",
    "print(l)"
   ]
  },
  {
   "cell_type": "markdown",
   "id": "12458cbd",
   "metadata": {},
   "source": [
    "Explicación: En este caso, del intenta borrar el objeto correspondiente a la referencia \"l\" dentro de la función. No obstante, ese mismo objeto tiene otra referencia asignada (l en main). Por lo tanto, no se borra el original.\n",
    "\n",
    "Pasa lo mismo si intentamos borrar un objeto que tiene dos referencias definidas en el mismo ambiente:"
   ]
  },
  {
   "cell_type": "code",
   "execution_count": 35,
   "id": "61193026",
   "metadata": {},
   "outputs": [
    {
     "name": "stdout",
     "output_type": "stream",
     "text": [
      "[4, 7]\n"
     ]
    }
   ],
   "source": [
    "l5 = [4,7]\n",
    "l6 = l5\n",
    "del l6\n",
    "print(l5)"
   ]
  },
  {
   "cell_type": "code",
   "execution_count": 36,
   "id": "d3d208e9",
   "metadata": {},
   "outputs": [
    {
     "ename": "NameError",
     "evalue": "name 'l5' is not defined",
     "output_type": "error",
     "traceback": [
      "\u001b[0;31m---------------------------------------------------------------------------\u001b[0m",
      "\u001b[0;31mNameError\u001b[0m                                 Traceback (most recent call last)",
      "Cell \u001b[0;32mIn[36], line 2\u001b[0m\n\u001b[1;32m      1\u001b[0m \u001b[38;5;28;01mdel\u001b[39;00m l5\n\u001b[0;32m----> 2\u001b[0m \u001b[38;5;28mprint\u001b[39m(\u001b[43ml5\u001b[49m)\n",
      "\u001b[0;31mNameError\u001b[0m: name 'l5' is not defined"
     ]
    }
   ],
   "source": [
    "del l5\n",
    "print(l5)"
   ]
  },
  {
   "cell_type": "markdown",
   "id": "86737197",
   "metadata": {},
   "source": [
    "#### ¿Qué hacer con los valores de retorno?\n",
    "\n",
    "Los valores de return se pueden capturar en referencias como se estime conveniente."
   ]
  },
  {
   "cell_type": "code",
   "execution_count": 37,
   "id": "1be5eb20",
   "metadata": {},
   "outputs": [
    {
     "name": "stdout",
     "output_type": "stream",
     "text": [
      "9 abc\n"
     ]
    }
   ],
   "source": [
    "def suma_3(n1, n2, n3):\n",
    "    return n1+n2+n3\n",
    "\n",
    "s1 = suma_3(1,3,5)\n",
    "s2 = suma_3(\"a\", \"b\", \"c\")\n",
    "print(s1, s2)"
   ]
  },
  {
   "cell_type": "code",
   "execution_count": 38,
   "id": "be428224",
   "metadata": {},
   "outputs": [],
   "source": [
    "# Esto lo podemos extender a combinaciones muy bizarras según la imaginación de cada persona:\n",
    "def dame_todo(n):\n",
    "    l = []\n",
    "    l.append(n)\n",
    "    s = set(l)\n",
    "    d = {\"lista\":l, \"set\":s}\n",
    "    return l, s, d"
   ]
  },
  {
   "cell_type": "code",
   "execution_count": 39,
   "id": "ee5c0460",
   "metadata": {},
   "outputs": [
    {
     "data": {
      "text/plain": [
       "([1], {1}, {'lista': [1], 'set': {1}})"
      ]
     },
     "execution_count": 39,
     "metadata": {},
     "output_type": "execute_result"
    }
   ],
   "source": [
    "dame_todo(1)"
   ]
  },
  {
   "cell_type": "code",
   "execution_count": 40,
   "id": "6e6fe1b5",
   "metadata": {},
   "outputs": [
    {
     "name": "stdout",
     "output_type": "stream",
     "text": [
      "([1], {1}, {'lista': [1], 'set': {1}})\n"
     ]
    }
   ],
   "source": [
    "# como esta función bizzara me retorna varios objetos empaquetados en una tupla, \n",
    "# entonces los puedo capturar tanto en conjunto como por separado\n",
    "\n",
    "todo = dame_todo(1)\n",
    "print(todo)"
   ]
  },
  {
   "cell_type": "code",
   "execution_count": 41,
   "id": "f7e797d0",
   "metadata": {},
   "outputs": [],
   "source": [
    "el1, el2, el3 = dame_todo(1)"
   ]
  },
  {
   "cell_type": "code",
   "execution_count": 42,
   "id": "f92e0b98",
   "metadata": {},
   "outputs": [
    {
     "name": "stdout",
     "output_type": "stream",
     "text": [
      "{'lista': [1], 'set': {1}}\n"
     ]
    }
   ],
   "source": [
    "print(el3)"
   ]
  },
  {
   "cell_type": "code",
   "execution_count": 43,
   "id": "333cec85",
   "metadata": {},
   "outputs": [],
   "source": [
    "# incluso puedo omitir la asignación de referencia de algunos de esos componentes con _:\n",
    "_, _, el4 = dame_todo(1)"
   ]
  },
  {
   "cell_type": "code",
   "execution_count": 44,
   "id": "68f72ad5",
   "metadata": {},
   "outputs": [
    {
     "data": {
      "text/plain": [
       "{'lista': [1], 'set': {1}}"
      ]
     },
     "execution_count": 44,
     "metadata": {},
     "output_type": "execute_result"
    }
   ],
   "source": [
    "el4"
   ]
  },
  {
   "cell_type": "markdown",
   "id": "0acc4a83",
   "metadata": {},
   "source": [
    "Para finalizar, es bueno tener en mente que una función que no tenga un \"return\" explícito, entonces retornará un objeto `None``:"
   ]
  },
  {
   "cell_type": "code",
   "execution_count": 45,
   "id": "5a80c1b9",
   "metadata": {
    "scrolled": true
   },
   "outputs": [
    {
     "name": "stdout",
     "output_type": "stream",
     "text": [
      "None\n"
     ]
    }
   ],
   "source": [
    "def funcion_vacia():\n",
    "    pass\n",
    "\n",
    "nada = funcion_vacia()\n",
    "print(nada)"
   ]
  },
  {
   "cell_type": "markdown",
   "id": "cc55970d",
   "metadata": {},
   "source": [
    "# Problemas de práctica:\n",
    "\n",
    "A continuación están las soluciones de un par de problemas de prácticas que fueron realizados en clase. "
   ]
  },
  {
   "cell_type": "markdown",
   "id": "2d8d8abf",
   "metadata": {},
   "source": [
    "#### Fibonacci (el regreso)"
   ]
  },
  {
   "cell_type": "code",
   "execution_count": 46,
   "id": "882b61ae",
   "metadata": {},
   "outputs": [],
   "source": [
    "def fibonacci(n):\n",
    "    a, b = 0, 1\n",
    "    numeros = [a, b]\n",
    "    for i in range(n):\n",
    "        c = a + b\n",
    "        numeros.append(c)\n",
    "        a, b = b, c\n",
    "    return numeros"
   ]
  },
  {
   "cell_type": "code",
   "execution_count": 47,
   "id": "4bb3fd23",
   "metadata": {},
   "outputs": [
    {
     "data": {
      "text/plain": [
       "[0, 1, 1, 2, 3, 5, 8, 13, 21, 34, 55, 89]"
      ]
     },
     "execution_count": 47,
     "metadata": {},
     "output_type": "execute_result"
    }
   ],
   "source": [
    "fibonacci(10)"
   ]
  },
  {
   "cell_type": "markdown",
   "id": "8c046836",
   "metadata": {},
   "source": [
    "#### Eliminación de duplicados"
   ]
  },
  {
   "cell_type": "code",
   "execution_count": 48,
   "id": "ac46c73b",
   "metadata": {},
   "outputs": [],
   "source": [
    "def eliminar_duplicados(l):\n",
    "    s = set(l)\n",
    "    return list(s)"
   ]
  },
  {
   "cell_type": "code",
   "execution_count": 49,
   "id": "378c125b",
   "metadata": {},
   "outputs": [
    {
     "data": {
      "text/plain": [
       "[1, 4, 5, 6, 7]"
      ]
     },
     "execution_count": 49,
     "metadata": {},
     "output_type": "execute_result"
    }
   ],
   "source": [
    "eliminar_duplicados([1,1,1,5,6,7,7,7,4,4])"
   ]
  },
  {
   "cell_type": "markdown",
   "id": "97932736",
   "metadata": {},
   "source": [
    "#### Contador de palabras"
   ]
  },
  {
   "cell_type": "markdown",
   "id": "78a2ae7a",
   "metadata": {},
   "source": [
    "En general, el algoritmo para encontrar los elementos únicos de una lista/ array/ o cualquier objeto compuesto, requiere revisar una a una las entradas del mismo, y copiar aquellas que son nuevas:"
   ]
  },
  {
   "cell_type": "code",
   "execution_count": 53,
   "id": "87583ac8",
   "metadata": {},
   "outputs": [],
   "source": [
    "lpalabras = [\"hola\", \"mundo\", \"hola\"]"
   ]
  },
  {
   "cell_type": "code",
   "execution_count": 54,
   "id": "b96ea474",
   "metadata": {},
   "outputs": [
    {
     "name": "stdout",
     "output_type": "stream",
     "text": [
      "['hola', 'mundo']\n"
     ]
    }
   ],
   "source": [
    "unicos = []\n",
    "\n",
    "for p in lpalabras:\n",
    "    if p not in unicos:\n",
    "        unicos.append(p)\n",
    "\n",
    "print(unicos)\n"
   ]
  },
  {
   "cell_type": "markdown",
   "id": "1df35095",
   "metadata": {},
   "source": [
    "Python nos permite hacer lo mismo en una línea con los conjuntos (sets):"
   ]
  },
  {
   "cell_type": "code",
   "execution_count": 55,
   "id": "379c0ca2",
   "metadata": {},
   "outputs": [
    {
     "name": "stdout",
     "output_type": "stream",
     "text": [
      "['mundo', 'hola']\n"
     ]
    }
   ],
   "source": [
    "unicos2 = list(set(lpalabras))\n",
    "print(unicos2)"
   ]
  },
  {
   "cell_type": "markdown",
   "id": "e769acdd",
   "metadata": {},
   "source": [
    "Con lo anterior, podemos crear una función contador_palabras:"
   ]
  },
  {
   "cell_type": "code",
   "execution_count": 51,
   "id": "b8ad9f40",
   "metadata": {},
   "outputs": [],
   "source": [
    "def contador_palabras(s):\n",
    "    d = {}\n",
    "    listsep = s.split()\n",
    "    unicas = set(listsep)\n",
    "    \n",
    "    for p in unicas:\n",
    "        d[p] = listsep.count(p)\n",
    "    return d"
   ]
  },
  {
   "cell_type": "code",
   "execution_count": 52,
   "id": "1c138325",
   "metadata": {},
   "outputs": [
    {
     "data": {
      "text/plain": [
       "{'mundo': 1, 'hola': 2}"
      ]
     },
     "execution_count": 52,
     "metadata": {},
     "output_type": "execute_result"
    }
   ],
   "source": [
    "contador_palabras(\"hola mundo hola\")"
   ]
  },
  {
   "cell_type": "code",
   "execution_count": null,
   "id": "d02edbc4",
   "metadata": {},
   "outputs": [],
   "source": []
  },
  {
   "cell_type": "code",
   "execution_count": null,
   "id": "34a21803",
   "metadata": {},
   "outputs": [],
   "source": []
  }
 ],
 "metadata": {
  "kernelspec": {
   "display_name": "Python 3 (ipykernel)",
   "language": "python",
   "name": "python3"
  },
  "language_info": {
   "codemirror_mode": {
    "name": "ipython",
    "version": 3
   },
   "file_extension": ".py",
   "mimetype": "text/x-python",
   "name": "python",
   "nbconvert_exporter": "python",
   "pygments_lexer": "ipython3",
   "version": "3.11.3"
  }
 },
 "nbformat": 4,
 "nbformat_minor": 5
}
