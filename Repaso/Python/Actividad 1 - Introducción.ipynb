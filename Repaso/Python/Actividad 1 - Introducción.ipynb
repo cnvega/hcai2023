{
 "cells": [
  {
   "cell_type": "markdown",
   "id": "5c95c3da",
   "metadata": {},
   "source": [
    "# Actividad 1\n",
    "\n",
    "En este notebook vamos a explorar las operaciones matemáticas, strings y variables básicas de Python.\n",
    "\n",
    "Python acepta operaciones matemáticas básicas, respetando las reglas de jerarquía (precedencia) de las operaciones y sus paréntesis:"
   ]
  },
  {
   "cell_type": "code",
   "execution_count": 1,
   "id": "913af8c1",
   "metadata": {},
   "outputs": [
    {
     "data": {
      "text/plain": [
       "8"
      ]
     },
     "execution_count": 1,
     "metadata": {},
     "output_type": "execute_result"
    }
   ],
   "source": [
    "3+5\n",
    "# Esto es un comentario."
   ]
  },
  {
   "cell_type": "code",
   "execution_count": 2,
   "id": "3d7be94a",
   "metadata": {},
   "outputs": [
    {
     "data": {
      "text/plain": [
       "-1.125"
      ]
     },
     "execution_count": 2,
     "metadata": {},
     "output_type": "execute_result"
    }
   ],
   "source": [
    "# Python reconoce el uso de paréntesis\n",
    "3 * (5./8. - 1)"
   ]
  },
  {
   "cell_type": "code",
   "execution_count": 3,
   "id": "773b87e1",
   "metadata": {},
   "outputs": [
    {
     "data": {
      "text/plain": [
       "2"
      ]
     },
     "execution_count": 3,
     "metadata": {},
     "output_type": "execute_result"
    }
   ],
   "source": [
    "# Esta operacion me retorna el resto de la división\n",
    "5%3"
   ]
  },
  {
   "cell_type": "code",
   "execution_count": 4,
   "id": "c8beef31",
   "metadata": {},
   "outputs": [
    {
     "data": {
      "text/plain": [
       "8"
      ]
     },
     "execution_count": 4,
     "metadata": {},
     "output_type": "execute_result"
    }
   ],
   "source": [
    "# Uso de potencias:\n",
    "2**3"
   ]
  },
  {
   "cell_type": "code",
   "execution_count": 5,
   "id": "ca241bec",
   "metadata": {},
   "outputs": [
    {
     "data": {
      "text/plain": [
       "2.0"
      ]
     },
     "execution_count": 5,
     "metadata": {},
     "output_type": "execute_result"
    }
   ],
   "source": [
    "4**(0.5)"
   ]
  },
  {
   "cell_type": "markdown",
   "id": "5b87c364",
   "metadata": {},
   "source": [
    "#### Variables\n",
    "Python permite asignar variables con valores numéricos:"
   ]
  },
  {
   "cell_type": "code",
   "execution_count": 6,
   "id": "568f1cee",
   "metadata": {},
   "outputs": [
    {
     "data": {
      "text/plain": [
       "12"
      ]
     },
     "execution_count": 6,
     "metadata": {},
     "output_type": "execute_result"
    }
   ],
   "source": [
    "a = 4\n",
    "b = 3\n",
    "a*b"
   ]
  },
  {
   "cell_type": "code",
   "execution_count": 7,
   "id": "4d365a6e",
   "metadata": {},
   "outputs": [
    {
     "data": {
      "text/plain": [
       "4.0"
      ]
     },
     "execution_count": 7,
     "metadata": {},
     "output_type": "execute_result"
    }
   ],
   "source": [
    "# y convierte automáticamente de enteros a floatantes, según necesidad.\n",
    "a*b/3"
   ]
  },
  {
   "cell_type": "markdown",
   "id": "c851c02c",
   "metadata": {},
   "source": [
    "Con la función `type( )` se puede saber el **tipo** de la variable de interés:"
   ]
  },
  {
   "cell_type": "code",
   "execution_count": 8,
   "id": "05558e53",
   "metadata": {
    "scrolled": true
   },
   "outputs": [
    {
     "data": {
      "text/plain": [
       "int"
      ]
     },
     "execution_count": 8,
     "metadata": {},
     "output_type": "execute_result"
    }
   ],
   "source": [
    "type(a)"
   ]
  },
  {
   "cell_type": "code",
   "execution_count": 9,
   "id": "a17516e6",
   "metadata": {},
   "outputs": [
    {
     "data": {
      "text/plain": [
       "float"
      ]
     },
     "execution_count": 9,
     "metadata": {},
     "output_type": "execute_result"
    }
   ],
   "source": [
    "c = 5.6 \n",
    "type(c)"
   ]
  },
  {
   "cell_type": "code",
   "execution_count": 10,
   "id": "f8779dc2",
   "metadata": {},
   "outputs": [
    {
     "data": {
      "text/plain": [
       "5"
      ]
     },
     "execution_count": 10,
     "metadata": {},
     "output_type": "execute_result"
    }
   ],
   "source": [
    "# También podemos usar el += como abreviación de a = a + ...\n",
    "# (esto también aplica al -=, *= , /= )\n",
    "a += 1\n",
    "a"
   ]
  },
  {
   "cell_type": "code",
   "execution_count": 11,
   "id": "1a68f9b5",
   "metadata": {},
   "outputs": [
    {
     "ename": "NameError",
     "evalue": "name 'n' is not defined",
     "output_type": "error",
     "traceback": [
      "\u001b[0;31m---------------------------------------------------------------------------\u001b[0m",
      "\u001b[0;31mNameError\u001b[0m                                 Traceback (most recent call last)",
      "Cell \u001b[0;32mIn[11], line 2\u001b[0m\n\u001b[1;32m      1\u001b[0m \u001b[38;5;66;03m# Python reconoce si uso una variable (referencia) que no está definida\u001b[39;00m\n\u001b[0;32m----> 2\u001b[0m \u001b[43mn\u001b[49m \n",
      "\u001b[0;31mNameError\u001b[0m: name 'n' is not defined"
     ]
    }
   ],
   "source": [
    "# Python reconoce si uso una variable (referencia) que no está definida\n",
    "n "
   ]
  },
  {
   "cell_type": "code",
   "execution_count": 12,
   "id": "f659f490",
   "metadata": {},
   "outputs": [
    {
     "ename": "ZeroDivisionError",
     "evalue": "division by zero",
     "output_type": "error",
     "traceback": [
      "\u001b[0;31m---------------------------------------------------------------------------\u001b[0m",
      "\u001b[0;31mZeroDivisionError\u001b[0m                         Traceback (most recent call last)",
      "Cell \u001b[0;32mIn[12], line 3\u001b[0m\n\u001b[1;32m      1\u001b[0m \u001b[38;5;66;03m# y también identifica el tipo de error...\u001b[39;00m\n\u001b[1;32m      2\u001b[0m zero \u001b[38;5;241m=\u001b[39m \u001b[38;5;241m0\u001b[39m\n\u001b[0;32m----> 3\u001b[0m \u001b[43ma\u001b[49m\u001b[38;5;241;43m/\u001b[39;49m\u001b[43mzero\u001b[49m\n",
      "\u001b[0;31mZeroDivisionError\u001b[0m: division by zero"
     ]
    }
   ],
   "source": [
    "# y también identifica el tipo de error...\n",
    "zero = 0\n",
    "a/zero"
   ]
  },
  {
   "cell_type": "markdown",
   "id": "962b83ee",
   "metadata": {},
   "source": [
    "Para acceder a más operaciones matemáticas, podemos usar el módulo (librería) estándar `math`:"
   ]
  },
  {
   "cell_type": "code",
   "execution_count": 13,
   "id": "35cf9502",
   "metadata": {},
   "outputs": [],
   "source": [
    "import math "
   ]
  },
  {
   "cell_type": "code",
   "execution_count": 14,
   "id": "fabc4b2e",
   "metadata": {},
   "outputs": [
    {
     "data": {
      "text/plain": [
       "56.0"
      ]
     },
     "execution_count": 14,
     "metadata": {},
     "output_type": "execute_result"
    }
   ],
   "source": [
    "math.log10(1e56)"
   ]
  },
  {
   "cell_type": "markdown",
   "id": "7ce3e773",
   "metadata": {},
   "source": [
    "#### Strings (cadenas)\n",
    "Python también nos permite crear variables tipo string (o cadenas)"
   ]
  },
  {
   "cell_type": "code",
   "execution_count": 15,
   "id": "783eafc2",
   "metadata": {},
   "outputs": [
    {
     "data": {
      "text/plain": [
       "'hola'"
      ]
     },
     "execution_count": 15,
     "metadata": {},
     "output_type": "execute_result"
    }
   ],
   "source": [
    "var = \"hola\"\n",
    "var"
   ]
  },
  {
   "cell_type": "code",
   "execution_count": 16,
   "id": "b0ee6991",
   "metadata": {},
   "outputs": [
    {
     "data": {
      "text/plain": [
       "'hola'"
      ]
     },
     "execution_count": 16,
     "metadata": {},
     "output_type": "execute_result"
    }
   ],
   "source": [
    "# También acepta comillas simples\n",
    "var_simple = 'hola'\n",
    "var_simple "
   ]
  },
  {
   "cell_type": "code",
   "execution_count": 18,
   "id": "7be3a0eb",
   "metadata": {},
   "outputs": [
    {
     "data": {
      "text/plain": [
       "\"I don't want to learn Python\""
      ]
     },
     "execution_count": 18,
     "metadata": {},
     "output_type": "execute_result"
    }
   ],
   "source": [
    "# Ambas opciones permiten definir strings con comillas adentro:\n",
    "p = \"I don't want to learn Python\"\n",
    "p"
   ]
  },
  {
   "cell_type": "markdown",
   "id": "a664bafc",
   "metadata": {},
   "source": [
    "Podemos combinar y realizar operaciones con strings:"
   ]
  },
  {
   "cell_type": "code",
   "execution_count": 19,
   "id": "317aaa63",
   "metadata": {},
   "outputs": [
    {
     "data": {
      "text/plain": [
       "'hola mundo'"
      ]
     },
     "execution_count": 19,
     "metadata": {},
     "output_type": "execute_result"
    }
   ],
   "source": [
    "# Se concatenan las strings literales (\"entre comillas\") de forma automática\n",
    "\"hola\" \" \" \"mundo\""
   ]
  },
  {
   "cell_type": "code",
   "execution_count": 20,
   "id": "95ae7d94",
   "metadata": {},
   "outputs": [
    {
     "ename": "SyntaxError",
     "evalue": "invalid syntax (2443558506.py, line 2)",
     "output_type": "error",
     "traceback": [
      "\u001b[0;36m  Cell \u001b[0;32mIn[20], line 2\u001b[0;36m\u001b[0m\n\u001b[0;31m    var \"mundo\"\u001b[0m\n\u001b[0m        ^\u001b[0m\n\u001b[0;31mSyntaxError\u001b[0m\u001b[0;31m:\u001b[0m invalid syntax\n"
     ]
    }
   ],
   "source": [
    "# pero esto no funciona con variables y strings\n",
    "var \"mundo\""
   ]
  },
  {
   "cell_type": "code",
   "execution_count": 21,
   "id": "3d1bc5fe",
   "metadata": {},
   "outputs": [
    {
     "data": {
      "text/plain": [
       "'holamundo'"
      ]
     },
     "execution_count": 21,
     "metadata": {},
     "output_type": "execute_result"
    }
   ],
   "source": [
    "# Esto lo puedo cambiar utilizando un operador:\n",
    "var + \"mundo\""
   ]
  },
  {
   "cell_type": "code",
   "execution_count": 22,
   "id": "2d0eb7ce",
   "metadata": {},
   "outputs": [
    {
     "data": {
      "text/plain": [
       "'hola mundo'"
      ]
     },
     "execution_count": 22,
     "metadata": {},
     "output_type": "execute_result"
    }
   ],
   "source": [
    "# incluso...\n",
    "var3 = \"mundo\"\n",
    "var + \" \" + var3"
   ]
  },
  {
   "cell_type": "code",
   "execution_count": 23,
   "id": "f4b63763",
   "metadata": {},
   "outputs": [
    {
     "data": {
      "text/plain": [
       "'Holaaa'"
      ]
     },
     "execution_count": 23,
     "metadata": {},
     "output_type": "execute_result"
    }
   ],
   "source": [
    "# strings también admiten el operador *\n",
    "\"Hol\"+3*\"a\""
   ]
  },
  {
   "cell_type": "code",
   "execution_count": 24,
   "id": "551bb845",
   "metadata": {},
   "outputs": [
    {
     "data": {
      "text/plain": [
       "'Holaaa :-)'"
      ]
     },
     "execution_count": 24,
     "metadata": {},
     "output_type": "execute_result"
    }
   ],
   "source": [
    "s1 = \"Hol\"+3*\"a\"\n",
    "s1 + \" :-)\""
   ]
  },
  {
   "cell_type": "code",
   "execution_count": 25,
   "id": "94ece367",
   "metadata": {},
   "outputs": [
    {
     "name": "stdout",
     "output_type": "stream",
     "text": [
      "star wars!\n",
      "star wars!\n",
      "star wars!\n",
      "star wars!\n",
      "\n"
     ]
    }
   ],
   "source": [
    "# y pueden contener saltos de línea\n",
    "m4 = 4*\"star wars!\\n\"\n",
    "print(m4)"
   ]
  },
  {
   "cell_type": "code",
   "execution_count": 26,
   "id": "2c51a37b",
   "metadata": {},
   "outputs": [
    {
     "data": {
      "text/plain": [
       "str"
      ]
     },
     "execution_count": 26,
     "metadata": {},
     "output_type": "execute_result"
    }
   ],
   "source": [
    "# El tipo de estas variables es 'str'\n",
    "type(s1)"
   ]
  },
  {
   "cell_type": "code",
   "execution_count": 27,
   "id": "a7fef0c0",
   "metadata": {},
   "outputs": [
    {
     "name": "stdout",
     "output_type": "stream",
     "text": [
      "linea1\n",
      "linea2\n"
     ]
    }
   ],
   "source": [
    "# Para incluir un \\n (o \\t, \\r) dentro de un string:\n",
    "s2 = \"linea1\\nlinea2\"\n",
    "print(s2)"
   ]
  },
  {
   "cell_type": "code",
   "execution_count": 28,
   "id": "0fde7b16",
   "metadata": {},
   "outputs": [
    {
     "name": "stdout",
     "output_type": "stream",
     "text": [
      "linea1\\nlinea2\n"
     ]
    }
   ],
   "source": [
    "# También se puede forzar a que sea literal:\n",
    "s3 = r\"linea1\\nlinea2\"\n",
    "print(s3)"
   ]
  },
  {
   "cell_type": "markdown",
   "id": "2d4618dd",
   "metadata": {},
   "source": [
    "Las strings son objetos que también admiten el operador de indexación `[]`"
   ]
  },
  {
   "cell_type": "code",
   "execution_count": 29,
   "id": "77bd0737",
   "metadata": {},
   "outputs": [
    {
     "data": {
      "text/plain": [
       "'A'"
      ]
     },
     "execution_count": 29,
     "metadata": {},
     "output_type": "execute_result"
    }
   ],
   "source": [
    "# Las strings se pueden acceder con el operador de indexación\n",
    "s4 = \"Ayudante\"\n",
    "s4[0]"
   ]
  },
  {
   "cell_type": "code",
   "execution_count": 30,
   "id": "9fb4c2f8",
   "metadata": {},
   "outputs": [
    {
     "data": {
      "text/plain": [
       "'t'"
      ]
     },
     "execution_count": 30,
     "metadata": {},
     "output_type": "execute_result"
    }
   ],
   "source": [
    "# Usando números negativos se accede desde el último elemento (desde -1)\n",
    "s4[-2]"
   ]
  },
  {
   "cell_type": "code",
   "execution_count": 31,
   "id": "3b702058",
   "metadata": {},
   "outputs": [
    {
     "data": {
      "text/plain": [
       "8"
      ]
     },
     "execution_count": 31,
     "metadata": {},
     "output_type": "execute_result"
    }
   ],
   "source": [
    "# Esta función nos permite conocer el \"largo\" del objeto\n",
    "len(s4)"
   ]
  },
  {
   "cell_type": "code",
   "execution_count": 32,
   "id": "4e148f0e",
   "metadata": {},
   "outputs": [
    {
     "data": {
      "text/plain": [
       "'dan'"
      ]
     },
     "execution_count": 32,
     "metadata": {},
     "output_type": "execute_result"
    }
   ],
   "source": [
    "# Python permite extraer slides de un objeto indexable, como estas strings:\n",
    "s4[3:6]"
   ]
  },
  {
   "cell_type": "code",
   "execution_count": 33,
   "id": "bc739bf8",
   "metadata": {},
   "outputs": [
    {
     "data": {
      "text/plain": [
       "'dant'"
      ]
     },
     "execution_count": 33,
     "metadata": {},
     "output_type": "execute_result"
    }
   ],
   "source": [
    "s4[-5:-1]"
   ]
  },
  {
   "cell_type": "code",
   "execution_count": 34,
   "id": "9df6d99e",
   "metadata": {},
   "outputs": [
    {
     "data": {
      "text/plain": [
       "'Ayuda'"
      ]
     },
     "execution_count": 34,
     "metadata": {},
     "output_type": "execute_result"
    }
   ],
   "source": [
    "s4[:5]"
   ]
  },
  {
   "cell_type": "code",
   "execution_count": 35,
   "id": "2e55b4d2",
   "metadata": {},
   "outputs": [
    {
     "data": {
      "text/plain": [
       "'nte'"
      ]
     },
     "execution_count": 35,
     "metadata": {},
     "output_type": "execute_result"
    }
   ],
   "source": [
    "s4[5:]"
   ]
  },
  {
   "cell_type": "code",
   "execution_count": 36,
   "id": "bdd8e64b",
   "metadata": {},
   "outputs": [
    {
     "data": {
      "text/plain": [
       "'Ayudante'"
      ]
     },
     "execution_count": 36,
     "metadata": {},
     "output_type": "execute_result"
    }
   ],
   "source": [
    "s4[:5] + s4[5:]"
   ]
  },
  {
   "cell_type": "code",
   "execution_count": 37,
   "id": "433be2e2",
   "metadata": {},
   "outputs": [
    {
     "name": "stdout",
     "output_type": "stream",
     "text": [
      "Esta es una linea\n",
      "Esta es otra\n",
      "Este es el fin\n",
      "\n"
     ]
    }
   ],
   "source": [
    "# Python permite crear strings con multiples lineas utilizando la triple comilla \n",
    "s5 = \"\"\"\\\n",
    "Esta es una linea\n",
    "Esta es otra\n",
    "Este es el fin\n",
    "\"\"\"\n",
    "print(s5)"
   ]
  },
  {
   "cell_type": "code",
   "execution_count": 38,
   "id": "940d10e1",
   "metadata": {},
   "outputs": [
    {
     "ename": "IndexError",
     "evalue": "string index out of range",
     "output_type": "error",
     "traceback": [
      "\u001b[0;31m---------------------------------------------------------------------------\u001b[0m",
      "\u001b[0;31mIndexError\u001b[0m                                Traceback (most recent call last)",
      "Cell \u001b[0;32mIn[38], line 2\u001b[0m\n\u001b[1;32m      1\u001b[0m \u001b[38;5;66;03m# ¿Puedo acceder a índices por fuera de la string?\u001b[39;00m\n\u001b[0;32m----> 2\u001b[0m \u001b[43ms4\u001b[49m\u001b[43m[\u001b[49m\u001b[38;5;241;43m8\u001b[39;49m\u001b[43m]\u001b[49m\n",
      "\u001b[0;31mIndexError\u001b[0m: string index out of range"
     ]
    }
   ],
   "source": [
    "# ¿Puedo acceder a índices por fuera de la string?\n",
    "s4[8]"
   ]
  },
  {
   "cell_type": "code",
   "execution_count": 39,
   "id": "38492d5a",
   "metadata": {},
   "outputs": [
    {
     "ename": "IndexError",
     "evalue": "string index out of range",
     "output_type": "error",
     "traceback": [
      "\u001b[0;31m---------------------------------------------------------------------------\u001b[0m",
      "\u001b[0;31mIndexError\u001b[0m                                Traceback (most recent call last)",
      "Cell \u001b[0;32mIn[39], line 1\u001b[0m\n\u001b[0;32m----> 1\u001b[0m \u001b[43ms4\u001b[49m\u001b[43m[\u001b[49m\u001b[38;5;241;43m-\u001b[39;49m\u001b[38;5;241;43m9\u001b[39;49m\u001b[43m]\u001b[49m\n",
      "\u001b[0;31mIndexError\u001b[0m: string index out of range"
     ]
    }
   ],
   "source": [
    "s4[-9]"
   ]
  },
  {
   "cell_type": "code",
   "execution_count": 40,
   "id": "816b9e3e",
   "metadata": {},
   "outputs": [
    {
     "ename": "TypeError",
     "evalue": "'str' object does not support item assignment",
     "output_type": "error",
     "traceback": [
      "\u001b[0;31m---------------------------------------------------------------------------\u001b[0m",
      "\u001b[0;31mTypeError\u001b[0m                                 Traceback (most recent call last)",
      "Cell \u001b[0;32mIn[40], line 2\u001b[0m\n\u001b[1;32m      1\u001b[0m \u001b[38;5;66;03m# Puedo modificar los elementos de un string?\u001b[39;00m\n\u001b[0;32m----> 2\u001b[0m \u001b[43ms4\u001b[49m\u001b[43m[\u001b[49m\u001b[38;5;241;43m1\u001b[39;49m\u001b[43m]\u001b[49m \u001b[38;5;241m=\u001b[39m \u001b[38;5;124m\"\u001b[39m\u001b[38;5;124mo\u001b[39m\u001b[38;5;124m\"\u001b[39m\n",
      "\u001b[0;31mTypeError\u001b[0m: 'str' object does not support item assignment"
     ]
    }
   ],
   "source": [
    "# Puedo modificar los elementos de un string?\n",
    "s4[1] = \"o\""
   ]
  },
  {
   "cell_type": "markdown",
   "id": "1d21501a",
   "metadata": {},
   "source": [
    "Entonces, en Python las strings con **inmutables**"
   ]
  },
  {
   "cell_type": "code",
   "execution_count": 41,
   "id": "f229b91d",
   "metadata": {},
   "outputs": [
    {
     "data": {
      "text/plain": [
       "'oyudante'"
      ]
     },
     "execution_count": 41,
     "metadata": {},
     "output_type": "execute_result"
    }
   ],
   "source": [
    "# pero las puedo utilizar para crear otras (modificadas)\n",
    "\"o\"+s4[1:]"
   ]
  },
  {
   "cell_type": "code",
   "execution_count": 42,
   "id": "f4faf3e2",
   "metadata": {},
   "outputs": [
    {
     "data": {
      "text/plain": [
       "'oyudante'"
      ]
     },
     "execution_count": 42,
     "metadata": {},
     "output_type": "execute_result"
    }
   ],
   "source": [
    "# incluso puedo re-definirla\n",
    "s4 = \"o\"+s4[1:]\n",
    "s4"
   ]
  },
  {
   "cell_type": "code",
   "execution_count": null,
   "id": "35b0aad0",
   "metadata": {},
   "outputs": [],
   "source": []
  }
 ],
 "metadata": {
  "kernelspec": {
   "display_name": "Python 3 (ipykernel)",
   "language": "python",
   "name": "python3"
  },
  "language_info": {
   "codemirror_mode": {
    "name": "ipython",
    "version": 3
   },
   "file_extension": ".py",
   "mimetype": "text/x-python",
   "name": "python",
   "nbconvert_exporter": "python",
   "pygments_lexer": "ipython3",
   "version": "3.11.3"
  }
 },
 "nbformat": 4,
 "nbformat_minor": 5
}
