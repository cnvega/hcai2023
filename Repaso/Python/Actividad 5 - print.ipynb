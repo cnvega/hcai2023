{
 "cells": [
  {
   "cell_type": "markdown",
   "id": "5ac98851",
   "metadata": {},
   "source": [
    "# I/O en Python \n",
    "\n",
    "En esta actividad estudiaremos las estrategias de input/ouput (I/O) dentro del lenguaje."
   ]
  },
  {
   "cell_type": "markdown",
   "id": "0fe52529",
   "metadata": {},
   "source": [
    "## 1. La función print( ) para stdout.\n",
    "\n",
    "Ya vimos que print es una función que recibe una cantidad arbitraria de argumentos separados por coma, los cuales trata de mostrar de manera combinada por stdout:"
   ]
  },
  {
   "cell_type": "code",
   "execution_count": 1,
   "id": "4cfb2e07",
   "metadata": {},
   "outputs": [
    {
     "name": "stdout",
     "output_type": "stream",
     "text": [
      "666 es un número malvado\n"
     ]
    }
   ],
   "source": [
    "var1 = 666\n",
    "s = \"malvado\"\n",
    "print(var1, \"es un número\", s)"
   ]
  },
  {
   "cell_type": "code",
   "execution_count": 2,
   "id": "9406fa05",
   "metadata": {},
   "outputs": [
    {
     "name": "stdout",
     "output_type": "stream",
     "text": [
      "[] {}\n"
     ]
    }
   ],
   "source": [
    "l, d = [], {}\n",
    "print(l, d)"
   ]
  },
  {
   "cell_type": "markdown",
   "id": "f3951a4e",
   "metadata": {},
   "source": [
    "En general, print le pregunta a los métodos respectivos de los objetos pasados como argumento si está disponible una representación alfanumérica del mismo. Esta se usa para crear el stdout."
   ]
  },
  {
   "cell_type": "markdown",
   "id": "4a89fc1d",
   "metadata": {},
   "source": [
    "Para forzar una representación alfanumérica, se puede intentar \"convertir\" el objeto deseado a string con `str( )`"
   ]
  },
  {
   "cell_type": "code",
   "execution_count": 3,
   "id": "0de1058a",
   "metadata": {},
   "outputs": [
    {
     "name": "stdout",
     "output_type": "stream",
     "text": [
      "El número malvado es ~666~\n"
     ]
    }
   ],
   "source": [
    "# Por ejemplo\n",
    "print(\"El número malvado es ~\"+str(var1)+\"~\")"
   ]
  },
  {
   "cell_type": "markdown",
   "id": "5a21f86a",
   "metadata": {},
   "source": [
    "Las strings literales (todas las que se definen directamente con \"\" pero sin referencia asociada) adminten opciones avanzadas de formato de variables numéricas. \n",
    "\n",
    "### Caso 1: f-strings"
   ]
  },
  {
   "cell_type": "code",
   "execution_count": 4,
   "id": "938b41ff",
   "metadata": {},
   "outputs": [],
   "source": [
    "# algunos números de distinta naturaleza:\n",
    "import math\n",
    "var1 = 666\n",
    "mstar = 1.2e12\n",
    "pi = math.pi"
   ]
  },
  {
   "cell_type": "markdown",
   "id": "1b5194de",
   "metadata": {},
   "source": [
    "Las f-strings adminten formato avanzado. Se habilitan agregando una \"f\" al principio, y la variable a incluir va entre llaves `{ }`"
   ]
  },
  {
   "cell_type": "code",
   "execution_count": 5,
   "id": "56190faf",
   "metadata": {},
   "outputs": [
    {
     "name": "stdout",
     "output_type": "stream",
     "text": [
      "El número de la bestia es 666\n"
     ]
    }
   ],
   "source": [
    "print(f\"El número de la bestia es {var1}\")"
   ]
  },
  {
   "cell_type": "markdown",
   "id": "adc27ddb",
   "metadata": {},
   "source": [
    "Luego del nombre de la variable, con `:` puedo acceder a las opciones de formato donde con un caracter se indica el tipo de variable numérica que quiero mostrar."
   ]
  },
  {
   "cell_type": "code",
   "execution_count": 6,
   "id": "7013e4af",
   "metadata": {},
   "outputs": [
    {
     "name": "stdout",
     "output_type": "stream",
     "text": [
      "El número de la bestia es   666\n"
     ]
    }
   ],
   "source": [
    "print(f\"El número de la bestia es {var1:5d}\")   # esto lo muestra como entero de 5 caracteres"
   ]
  },
  {
   "cell_type": "code",
   "execution_count": 7,
   "id": "5317181c",
   "metadata": {},
   "outputs": [
    {
     "name": "stdout",
     "output_type": "stream",
     "text": [
      "El número de la bestia es 00666\n"
     ]
    }
   ],
   "source": [
    "print(f\"El número de la bestia es {var1:05d}\")   # esto lo muestra como entero de 5 caracteres, con ceros"
   ]
  },
  {
   "cell_type": "code",
   "execution_count": 8,
   "id": "d2355422",
   "metadata": {},
   "outputs": [
    {
     "name": "stdout",
     "output_type": "stream",
     "text": [
      "El número de la bestia es 666.000000\n"
     ]
    }
   ],
   "source": [
    "print(f\"El número de la bestia es {var1:f}\")   # esto lo muestra como flotante:"
   ]
  },
  {
   "cell_type": "code",
   "execution_count": 9,
   "id": "65e09626",
   "metadata": {},
   "outputs": [
    {
     "name": "stdout",
     "output_type": "stream",
     "text": [
      "El número de la bestia es 666.000\n"
     ]
    }
   ],
   "source": [
    "print(f\"El número de la bestia es {var1:.3f}\")   # esto lo muestra como flotante con tres decimales"
   ]
  },
  {
   "cell_type": "code",
   "execution_count": 10,
   "id": "af6ad0e5",
   "metadata": {},
   "outputs": [
    {
     "name": "stdout",
     "output_type": "stream",
     "text": [
      "La masa estelar de la galaxia es 1200000000000.000000\n"
     ]
    }
   ],
   "source": [
    "print(f\"La masa estelar de la galaxia es {mstar:f}\")    # los flotates siempre se muestran con punto flotante."
   ]
  },
  {
   "cell_type": "code",
   "execution_count": 11,
   "id": "b0f067e2",
   "metadata": {},
   "outputs": [
    {
     "name": "stdout",
     "output_type": "stream",
     "text": [
      "La masa estelar de la galaxia es 1.2e+12\n"
     ]
    }
   ],
   "source": [
    "print(f\"La masa estelar de la galaxia es {mstar:g}\")  # la notación científica se habilita con g."
   ]
  },
  {
   "cell_type": "markdown",
   "id": "784807a7",
   "metadata": {},
   "source": [
    "En este tipo de formato, el = me permite expandir una variable con su nombre:"
   ]
  },
  {
   "cell_type": "code",
   "execution_count": 12,
   "id": "2804c997",
   "metadata": {},
   "outputs": [
    {
     "name": "stdout",
     "output_type": "stream",
     "text": [
      "La masa estelar de la galaxia es mstar=1200000000000.0\n"
     ]
    }
   ],
   "source": [
    "print(f\"La masa estelar de la galaxia es {mstar=}\") "
   ]
  },
  {
   "cell_type": "code",
   "execution_count": 13,
   "id": "db17829d",
   "metadata": {},
   "outputs": [
    {
     "name": "stdout",
     "output_type": "stream",
     "text": [
      "La masa estelar de la galaxia es mstar=1.2e+12\n"
     ]
    }
   ],
   "source": [
    "print(f\"La masa estelar de la galaxia es {mstar=:g}\")   # se puede combinar con el :"
   ]
  },
  {
   "cell_type": "markdown",
   "id": "2220094b",
   "metadata": {},
   "source": [
    "### Caso 2: método format( ) de las strings\n",
    "\n",
    "Utiliza el método format( ) de cada string para incorporar variables numéricas a formatear. También utiliza la llave `{ }` para indicar donde va cada variable:"
   ]
  },
  {
   "cell_type": "code",
   "execution_count": 14,
   "id": "ae28ad3a",
   "metadata": {},
   "outputs": [
    {
     "name": "stdout",
     "output_type": "stream",
     "text": [
      "El número de la bestia es 666\n"
     ]
    }
   ],
   "source": [
    "print(\"El número de la bestia es {}\".format(var1))"
   ]
  },
  {
   "cell_type": "code",
   "execution_count": 15,
   "id": "8ec2aa58",
   "metadata": {},
   "outputs": [
    {
     "name": "stdout",
     "output_type": "stream",
     "text": [
      "El número de la bestia es 666.000000\n"
     ]
    }
   ],
   "source": [
    "print(\"El número de la bestia es {:f}\".format(var1))  # el : y las opciones anteriores también sirven acá:"
   ]
  },
  {
   "cell_type": "code",
   "execution_count": 16,
   "id": "ee35cd67",
   "metadata": {},
   "outputs": [
    {
     "name": "stdout",
     "output_type": "stream",
     "text": [
      "La masa estelar de la galaxia es 1.2e+12\n"
     ]
    }
   ],
   "source": [
    "print(\"La masa estelar de la galaxia es {:g}\".format(mstar)) "
   ]
  },
  {
   "cell_type": "markdown",
   "id": "2aa24e2b",
   "metadata": {},
   "source": [
    "Con esta estrategia también puedo alterar **el orden** de las variables utilizadas. Esto se indica con el índice del argumento de format dentro de la `{ }`."
   ]
  },
  {
   "cell_type": "code",
   "execution_count": 17,
   "id": "6d6e243e",
   "metadata": {},
   "outputs": [
    {
     "name": "stdout",
     "output_type": "stream",
     "text": [
      "El numero de la bestia es 666 y el valor de pi es 3.141592653589793\n"
     ]
    }
   ],
   "source": [
    "print(\"El numero de la bestia es {1} y el valor de pi es {0}\".format(pi, var1))"
   ]
  },
  {
   "cell_type": "code",
   "execution_count": 18,
   "id": "2eda708e",
   "metadata": {},
   "outputs": [
    {
     "name": "stdout",
     "output_type": "stream",
     "text": [
      "El numero de la bestia es 00666 y el valor de pi es 3.1416\n"
     ]
    }
   ],
   "source": [
    "# lo anterior se puede combinar con las opciones de formato:\n",
    "print(\"El numero de la bestia es {1:05d} y el valor de pi es {0:.4f}\".format(pi, var1))"
   ]
  },
  {
   "cell_type": "markdown",
   "id": "7aa8b7e7",
   "metadata": {},
   "source": [
    "Con estas herramientas podemos generar estructuras ordenadas de datos (por ejemplo, en columnas)"
   ]
  },
  {
   "cell_type": "code",
   "execution_count": 19,
   "id": "faa3f0f6",
   "metadata": {},
   "outputs": [
    {
     "name": "stdout",
     "output_type": "stream",
     "text": [
      "  0    0     0\n",
      "  1    1     1\n",
      "  2    4     8\n",
      "  3    9    27\n",
      "  4   16    64\n",
      "  5   25   125\n",
      "  6   36   216\n",
      "  7   49   343\n",
      "  8   64   512\n",
      "  9   81   729\n",
      " 10  100  1000\n",
      " 11  121  1331\n",
      " 12  144  1728\n",
      " 13  169  2197\n",
      " 14  196  2744\n"
     ]
    }
   ],
   "source": [
    "# Acá crearemos una tabla ordenada que muestre los números naturales, sus cuadrados y cubos:\n",
    "fin = 15\n",
    "for n in range(15):\n",
    "    print(\"{:3d} {:4d} {:5d}\".format(n, n*n, n*n*n))"
   ]
  },
  {
   "cell_type": "markdown",
   "id": "14838b0f",
   "metadata": {},
   "source": [
    "Además de estas dos estrategias de formato, se pueden utilizar los métodos de las strings para realizar formato manual: `rjust( )`, `ljust( )`, `center( )`, `zfill( )`"
   ]
  },
  {
   "cell_type": "code",
   "execution_count": null,
   "id": "2237fded",
   "metadata": {},
   "outputs": [],
   "source": []
  }
 ],
 "metadata": {
  "kernelspec": {
   "display_name": "Python 3 (ipykernel)",
   "language": "python",
   "name": "python3"
  },
  "language_info": {
   "codemirror_mode": {
    "name": "ipython",
    "version": 3
   },
   "file_extension": ".py",
   "mimetype": "text/x-python",
   "name": "python",
   "nbconvert_exporter": "python",
   "pygments_lexer": "ipython3",
   "version": "3.11.3"
  }
 },
 "nbformat": 4,
 "nbformat_minor": 5
}
