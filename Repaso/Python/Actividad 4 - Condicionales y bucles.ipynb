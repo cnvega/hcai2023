{
 "cells": [
  {
   "cell_type": "markdown",
   "id": "6af105e1",
   "metadata": {},
   "source": [
    "# Control de flujo en Python\n",
    "\n",
    "Recordamos que las herramientas de control de flujo son aquellas que nos permiten definir el *flujo* de cálculo de un programa: esto es, el orden de las instrucciones que ejecutan."
   ]
  },
  {
   "cell_type": "markdown",
   "id": "8d3228b5",
   "metadata": {},
   "source": [
    "## Condicionales\n",
    "\n",
    "En Python los condicionales se indican con `if`. Las instrucciones que quedan **dentro** del condicional se indican mediante la *indentación*."
   ]
  },
  {
   "cell_type": "code",
   "execution_count": 1,
   "id": "64a06d66",
   "metadata": {},
   "outputs": [
    {
     "name": "stdout",
     "output_type": "stream",
     "text": [
      "Var es mayor que cero\n",
      "y eso es genial!\n"
     ]
    }
   ],
   "source": [
    "var = 3\n",
    "\n",
    "if (var > 0):\n",
    "    print(\"Var es mayor que cero\")\n",
    "    print(\"y eso es genial!\")\n"
   ]
  },
  {
   "cell_type": "code",
   "execution_count": 2,
   "id": "51dbfd9c",
   "metadata": {},
   "outputs": [
    {
     "name": "stdout",
     "output_type": "stream",
     "text": [
      "Es correcto!\n"
     ]
    }
   ],
   "source": [
    "# en Python los and y or se escriben literales:\n",
    "var2 = \"jose\"\n",
    "\n",
    "if (var > 0 and var2 == \"jose\"):\n",
    "    print(\"Es correcto!\")"
   ]
  },
  {
   "cell_type": "code",
   "execution_count": 3,
   "id": "759af24d",
   "metadata": {},
   "outputs": [
    {
     "name": "stdout",
     "output_type": "stream",
     "text": [
      "true\n"
     ]
    }
   ],
   "source": [
    "if (var == -1 or var2 == \"jose\"):\n",
    "    print(\"true\")"
   ]
  },
  {
   "cell_type": "markdown",
   "id": "51251601",
   "metadata": {},
   "source": [
    "**Es muy importante recordar que la comparación de equivalencia en Python siempre es `==`**"
   ]
  },
  {
   "cell_type": "code",
   "execution_count": 4,
   "id": "f7d50c9e",
   "metadata": {},
   "outputs": [
    {
     "name": "stdout",
     "output_type": "stream",
     "text": [
      "ingresa número: 1\n",
      "es 1\n"
     ]
    }
   ],
   "source": [
    "# Tambien se pueden utilizar condicionales múltiples con elif, y else:\n",
    "var = input(\"ingresa número: \")\n",
    "var = float(var)\n",
    "\n",
    "if (var == -1):\n",
    "    print(\"es -1\")\n",
    "elif (var == 1):\n",
    "    print(\"es 1\")\n",
    "else:\n",
    "    print(\"No es ni -1 ni 2\")"
   ]
  },
  {
   "cell_type": "markdown",
   "id": "9a5ca4a9",
   "metadata": {},
   "source": [
    "Si bien la comparación entre un flotante y un entero funciona aunque la variable flotante contiene un entero adentro, esta *no simpre* podría ser exacta. Siempre es preferible comparar con >, <, >=, <=, e incluso distinto !=."
   ]
  },
  {
   "cell_type": "code",
   "execution_count": 5,
   "id": "a474e0c7",
   "metadata": {},
   "outputs": [
    {
     "name": "stdout",
     "output_type": "stream",
     "text": [
      "Todo se cumple\n",
      "Estoy en el primer if\n"
     ]
    }
   ],
   "source": [
    "# Los condicionales también se pueden anidar (probar diferentes valores de a, b y c)\n",
    "a, b, c = 0, 1, 2\n",
    "\n",
    "if (a == 0):\n",
    "    if (b == 1 and c == 2):\n",
    "        print(\"Todo se cumple\")\n",
    "    else:\n",
    "        print(\"Estoy en el primer else\")\n",
    "    print(\"Estoy en el primer if\")\n",
    "else:\n",
    "    print(\"a no es cero\")\n",
    "    "
   ]
  },
  {
   "cell_type": "code",
   "execution_count": 6,
   "id": "4c125008",
   "metadata": {},
   "outputs": [
    {
     "name": "stdout",
     "output_type": "stream",
     "text": [
      "A no es uno\n"
     ]
    }
   ],
   "source": [
    "# Así como el and y or son literlaes, la negación también lo es:\n",
    "if not a == 1:\n",
    "    print(\"A no es uno\")"
   ]
  },
  {
   "cell_type": "code",
   "execution_count": 7,
   "id": "c48c429d",
   "metadata": {},
   "outputs": [
    {
     "name": "stdout",
     "output_type": "stream",
     "text": [
      "5 esta en l1\n"
     ]
    }
   ],
   "source": [
    "# En los condicionales también podemos usar la instrucción in:\n",
    "l1 = [5, 7, 9]\n",
    "if 5 in l1:\n",
    "    print(\"5 esta en l1\")\n",
    "else:\n",
    "    print(\"5 no esta en l1\")"
   ]
  },
  {
   "cell_type": "code",
   "execution_count": 8,
   "id": "b3da0d9a",
   "metadata": {},
   "outputs": [
    {
     "name": "stdout",
     "output_type": "stream",
     "text": [
      "True\n"
     ]
    }
   ],
   "source": [
    "# También podemos testear si algo es un objeto particular con la instrucción is\n",
    "l2 = l1\n",
    "if l2 is l1:\n",
    "    print(\"True\")"
   ]
  },
  {
   "cell_type": "code",
   "execution_count": 9,
   "id": "cfd94ceb",
   "metadata": {},
   "outputs": [
    {
     "name": "stdout",
     "output_type": "stream",
     "text": [
      "7 en l1\n"
     ]
    }
   ],
   "source": [
    "# Es posible escribir los condicionales en una sola línea mediante.\n",
    "if 7 in l1: print(\"7 en l1\")"
   ]
  },
  {
   "cell_type": "markdown",
   "id": "5616f30c",
   "metadata": {},
   "source": [
    "`in` se puede usar en listas, tuplas, sets y en los keys de los diccionarios."
   ]
  },
  {
   "cell_type": "markdown",
   "id": "a17b49ce",
   "metadata": {},
   "source": [
    "## Bluces con while\n",
    "\n",
    "La sintaxis de los bucles con while en Python es similar a la de bash, pero más simple:"
   ]
  },
  {
   "cell_type": "code",
   "execution_count": 10,
   "id": "c14f4233",
   "metadata": {},
   "outputs": [
    {
     "name": "stdout",
     "output_type": "stream",
     "text": [
      "0\n",
      "1\n",
      "2\n",
      "3\n",
      "4\n",
      "5\n",
      "6\n",
      "7\n",
      "8\n",
      "9\n"
     ]
    }
   ],
   "source": [
    "i = 0\n",
    "while (i < 10):\n",
    "    print(i)\n",
    "    i += 1\n"
   ]
  },
  {
   "cell_type": "markdown",
   "id": "cdc6e6b2",
   "metadata": {},
   "source": [
    "**Peligro con los loops infinitos!** Instrucciones como esta que crean cosas (objetos) en cada paso del bucle pueden llenan fácilmente la RAM:"
   ]
  },
  {
   "cell_type": "code",
   "execution_count": 12,
   "id": "e97a9bb7",
   "metadata": {},
   "outputs": [],
   "source": [
    "### Descomentar para ejecutar, cortar con el stop de jupyter antes que colapse la memoria.\n",
    "#l = []\n",
    "#while True:\n",
    "#    l.append(9)"
   ]
  },
  {
   "cell_type": "code",
   "execution_count": 13,
   "id": "87407c59",
   "metadata": {},
   "outputs": [],
   "source": [
    "## Aunque borremos la variable, la memoria no se liberará hasta que reiniciemos el kernel:\n",
    "#del l"
   ]
  },
  {
   "cell_type": "markdown",
   "id": "f9974ef2",
   "metadata": {},
   "source": [
    "En las comparaciones (también dentro del while), el retorno de las mismas siempre es un valor de typo booleano:\n"
   ]
  },
  {
   "cell_type": "code",
   "execution_count": 14,
   "id": "e7bd906f",
   "metadata": {},
   "outputs": [
    {
     "data": {
      "text/plain": [
       "(True, False)"
      ]
     },
     "execution_count": 14,
     "metadata": {},
     "output_type": "execute_result"
    }
   ],
   "source": [
    "True, False"
   ]
  },
  {
   "cell_type": "code",
   "execution_count": 15,
   "id": "4aec1c4e",
   "metadata": {},
   "outputs": [
    {
     "data": {
      "text/plain": [
       "bool"
      ]
     },
     "execution_count": 15,
     "metadata": {},
     "output_type": "execute_result"
    }
   ],
   "source": [
    "type(True)"
   ]
  },
  {
   "cell_type": "code",
   "execution_count": 16,
   "id": "acbbbe72",
   "metadata": {},
   "outputs": [],
   "source": [
    "# que puede ser reemplazado por enteros u otros objetos, donde cero o None son entendidos como False\n",
    "if 0: print(\"Esto nunca se cumple\")\n",
    "\n",
    "if None: print(\"Esto tampoco debería cumplirse\")"
   ]
  },
  {
   "cell_type": "code",
   "execution_count": 17,
   "id": "7a9efc8b",
   "metadata": {},
   "outputs": [
    {
     "name": "stdout",
     "output_type": "stream",
     "text": [
      "Esto se cumple\n",
      "con str también\n"
     ]
    }
   ],
   "source": [
    "# En cambio un valor distinto de 0 es verdadero:\n",
    "if 1: print(\"Esto se cumple\")\n",
    "if \"hola\": print(\"con str también\")"
   ]
  },
  {
   "cell_type": "markdown",
   "id": "2d0cbf21",
   "metadata": {},
   "source": [
    "## Bucles con for\n",
    "\n",
    "Los bucles con `for` son los más usados en Python. Su estructura es similar a los `for` de Bash, dado que el bucle se realiza en torno a un objeto que sea *iterable*, es decir, pueda descomponerse en múltiples partes. "
   ]
  },
  {
   "cell_type": "code",
   "execution_count": 18,
   "id": "6f7ac1e3",
   "metadata": {},
   "outputs": [
    {
     "name": "stdout",
     "output_type": "stream",
     "text": [
      "1\n",
      "2\n",
      "3\n",
      "4\n"
     ]
    }
   ],
   "source": [
    "for i in [1,2,3,4]:\n",
    "    print(i)\n"
   ]
  },
  {
   "cell_type": "code",
   "execution_count": 19,
   "id": "f163c858",
   "metadata": {},
   "outputs": [
    {
     "name": "stdout",
     "output_type": "stream",
     "text": [
      "Mi bucle tendrá 3 pasos\n"
     ]
    }
   ],
   "source": [
    "# Este objeto iterable puede ser un objeto compuesto como los que vimos con anterioridad:\n",
    "palabras = [\"jose\", \"cristian\", \"facundo\"]\n",
    "\n",
    "# el numero de pasos del bucle serán los mismos que me diga la función len()\n",
    "print(\"Mi bucle tendrá\", len(palabras), \"pasos\") "
   ]
  },
  {
   "cell_type": "code",
   "execution_count": 20,
   "id": "f14f94bf",
   "metadata": {},
   "outputs": [
    {
     "name": "stdout",
     "output_type": "stream",
     "text": [
      "Elemento:  jose\n",
      "Elemento:  cristian\n",
      "Elemento:  facundo\n"
     ]
    }
   ],
   "source": [
    "for p in palabras:\n",
    "    print(\"Elemento: \", p)"
   ]
  },
  {
   "cell_type": "code",
   "execution_count": 21,
   "id": "34a4fc8e",
   "metadata": {},
   "outputs": [
    {
     "name": "stdout",
     "output_type": "stream",
     "text": [
      "jose tiene 4 letras\n",
      "cristian tiene 8 letras\n",
      "facundo tiene 7 letras\n"
     ]
    }
   ],
   "source": [
    "# si quisiera contar el número de caracteres de cada palabra, podría hacer:\n",
    "for p in palabras:\n",
    "    print(p, \"tiene\", len(p), \"letras\")"
   ]
  },
  {
   "cell_type": "markdown",
   "id": "1e74c070",
   "metadata": {},
   "source": [
    "**Digresión**: para combinar objetos en una sola `string`, la concatenación verifica que todos los componentes combinados sean del tipo str, de modo que es necesario convertir aquellos que no lo son:"
   ]
  },
  {
   "cell_type": "code",
   "execution_count": 22,
   "id": "a2e01bc9",
   "metadata": {},
   "outputs": [
    {
     "name": "stdout",
     "output_type": "stream",
     "text": [
      "cristian tiene 8 letras\n"
     ]
    }
   ],
   "source": [
    "s = palabras[1]+\" tiene \"+str(len(palabras[1]))+\" letras\"\n",
    "print(s)"
   ]
  },
  {
   "cell_type": "markdown",
   "id": "689ddfba",
   "metadata": {},
   "source": [
    "#### Advertencia\n",
    "Siempre eviten modificar dentro del bucle los componentes del objeto que se está iterando.\n"
   ]
  },
  {
   "cell_type": "code",
   "execution_count": 23,
   "id": "7ce33421",
   "metadata": {},
   "outputs": [
    {
     "name": "stdout",
     "output_type": "stream",
     "text": [
      "1\n",
      "2\n",
      "3\n",
      "4\n",
      "5\n",
      "6\n",
      "7\n",
      "8\n",
      "9\n",
      "10\n",
      "11\n"
     ]
    },
    {
     "ename": "NameError",
     "evalue": "name 'lista' is not defined",
     "output_type": "error",
     "traceback": [
      "\u001b[0;31m---------------------------------------------------------------------------\u001b[0m",
      "\u001b[0;31mNameError\u001b[0m                                 Traceback (most recent call last)",
      "Cell \u001b[0;32mIn[23], line 4\u001b[0m\n\u001b[1;32m      2\u001b[0m \u001b[38;5;28;01mfor\u001b[39;00m i \u001b[38;5;129;01min\u001b[39;00m lista:\n\u001b[1;32m      3\u001b[0m     \u001b[38;5;28mprint\u001b[39m(i)\n\u001b[0;32m----> 4\u001b[0m     \u001b[43mlista\u001b[49m\u001b[38;5;241m.\u001b[39mappend(i\u001b[38;5;241m+\u001b[39m\u001b[38;5;241m3\u001b[39m)\n\u001b[1;32m      5\u001b[0m     \u001b[38;5;66;03m# Destruiré la lista en i=10 para evitar el bucle infinito:\u001b[39;00m\n\u001b[1;32m      6\u001b[0m     \u001b[38;5;28;01mif\u001b[39;00m i \u001b[38;5;241m==\u001b[39m \u001b[38;5;241m10\u001b[39m: \u001b[38;5;28;01mdel\u001b[39;00m lista\n",
      "\u001b[0;31mNameError\u001b[0m: name 'lista' is not defined"
     ]
    }
   ],
   "source": [
    "lista = [1,2,3]\n",
    "for i in lista:\n",
    "    print(i)\n",
    "    lista.append(i+3)\n",
    "    # Destruiré la lista en i=10 para evitar el bucle infinito:\n",
    "    if i == 10: del lista"
   ]
  },
  {
   "cell_type": "markdown",
   "id": "3e917fd6",
   "metadata": {},
   "source": [
    "## Función generadora range( )\n",
    "\n",
    "`range( )` es una función de Python que **genera** valores para una iteración. Es decir, es similar al `seq` de Bash, pero **no** entrega una lista, sino que retorna el valor correspondiente en cada paso de una iteración:"
   ]
  },
  {
   "cell_type": "code",
   "execution_count": 24,
   "id": "532d4b25",
   "metadata": {},
   "outputs": [
    {
     "name": "stdout",
     "output_type": "stream",
     "text": [
      "0\n",
      "1\n",
      "2\n",
      "3\n",
      "4\n"
     ]
    }
   ],
   "source": [
    "for i in range(5):\n",
    "    print(i)"
   ]
  },
  {
   "cell_type": "code",
   "execution_count": 25,
   "id": "5be87aec",
   "metadata": {},
   "outputs": [
    {
     "name": "stdout",
     "output_type": "stream",
     "text": [
      "2\n",
      "4\n",
      "6\n",
      "8\n"
     ]
    }
   ],
   "source": [
    "# también puedo definir un inicio, final y paso:\n",
    "for i in range(2,10,2):\n",
    "    print(i)"
   ]
  },
  {
   "cell_type": "markdown",
   "id": "4dd57849",
   "metadata": {},
   "source": [
    "Es imporntante destacar que `range()` genera principalmente índices; es decir, parte desde 0 hasta N-1."
   ]
  },
  {
   "cell_type": "code",
   "execution_count": 26,
   "id": "41271fb0",
   "metadata": {},
   "outputs": [
    {
     "name": "stdout",
     "output_type": "stream",
     "text": [
      "0 : jose\n",
      "1 : cristian\n",
      "2 : facundo\n",
      "3 : marina\n"
     ]
    }
   ],
   "source": [
    "# Ejemplo de uso de range():\n",
    "palabras = [\"jose\", \"cristian\", \"facundo\", \"marina\"]\n",
    "for i in range(len(palabras)):\n",
    "    print(i, \":\", palabras[i])\n"
   ]
  },
  {
   "cell_type": "markdown",
   "id": "f0492603",
   "metadata": {},
   "source": [
    "Python también define una función especial llamada `enumerate` para realizar automáticamente la operación anterior:"
   ]
  },
  {
   "cell_type": "code",
   "execution_count": 27,
   "id": "2c353717",
   "metadata": {},
   "outputs": [
    {
     "name": "stdout",
     "output_type": "stream",
     "text": [
      "0 jose\n",
      "1 cristian\n",
      "2 facundo\n",
      "3 marina\n"
     ]
    }
   ],
   "source": [
    "for i, p in enumerate(palabras):\n",
    "    print(i, p)"
   ]
  },
  {
   "cell_type": "markdown",
   "id": "d5432a0f",
   "metadata": {},
   "source": [
    "Ojo que range() no se puede utilizar como si fuera una lista:"
   ]
  },
  {
   "cell_type": "code",
   "execution_count": 28,
   "id": "d9c2dbf9",
   "metadata": {},
   "outputs": [
    {
     "name": "stdout",
     "output_type": "stream",
     "text": [
      "[0, 1, 2, 3] range(0, 4)\n"
     ]
    }
   ],
   "source": [
    "l1 = [0,1,2,3]\n",
    "l2 = range(4)\n",
    "print(l1, l2)"
   ]
  },
  {
   "cell_type": "code",
   "execution_count": 29,
   "id": "cb5930ff",
   "metadata": {},
   "outputs": [
    {
     "name": "stdout",
     "output_type": "stream",
     "text": [
      "[0, 1, 2, 3]\n"
     ]
    }
   ],
   "source": [
    "# pero yo puedo transformar esos valores a una lista u otro objeto compuesto que desee:\n",
    "l2 = list(range(4))\n",
    "print(l2)"
   ]
  },
  {
   "cell_type": "markdown",
   "id": "1d0b1be1",
   "metadata": {},
   "source": [
    "## Sentencias break, continue\n",
    "\n",
    "Las instrucciones `break` y `continue` tienen el mismo significado que Bash:\n",
    "\n",
    "`break`: **corta** el bucle cuando se encuentra esta instrucción\n",
    "\n",
    "`continue`: termina la ejecución el paso actual cuando se encuentra esta instrucción, **continuando** con el siguiente."
   ]
  },
  {
   "cell_type": "code",
   "execution_count": 30,
   "id": "2898ba36",
   "metadata": {},
   "outputs": [
    {
     "name": "stdout",
     "output_type": "stream",
     "text": [
      "0 es par\n",
      "2 es par\n",
      "4 es par\n",
      "6 es par\n",
      "8 es par\n",
      "10 es par\n",
      "12 es par\n",
      "14 es par\n"
     ]
    }
   ],
   "source": [
    "# Un bucle que muestre los numeros pares hasta end\n",
    "end = 14\n",
    "i = 0\n",
    "while True:\n",
    "    if i % 2 == 0:\n",
    "        print(i, \"es par\")\n",
    "    \n",
    "    if i == end:\n",
    "        break\n",
    "    i += 1\n"
   ]
  },
  {
   "cell_type": "code",
   "execution_count": 32,
   "id": "99b56bb8",
   "metadata": {},
   "outputs": [
    {
     "name": "stdout",
     "output_type": "stream",
     "text": [
      "14\n"
     ]
    }
   ],
   "source": [
    "# Las variables modificadas en un bucle quedan con su último valor asignado:\n",
    "print(i)"
   ]
  },
  {
   "cell_type": "code",
   "execution_count": 33,
   "id": "44240d4c",
   "metadata": {},
   "outputs": [
    {
     "name": "stdout",
     "output_type": "stream",
     "text": [
      "2 es par\n",
      "6 es par\n",
      "10 es par\n",
      "14 es par\n"
     ]
    }
   ],
   "source": [
    "# mostremos los números pares exceptuando aquellos que son divisibles por 4:\n",
    "end = 16\n",
    "i = 0\n",
    "while True:\n",
    "    i += 1 \n",
    "    if i == end:\n",
    "        break\n",
    "        \n",
    "    if i % 2 == 0:\n",
    "        if i % 4 == 0:\n",
    "            continue\n",
    "        print(i, \"es par\")\n",
    "    \n",
    "   \n"
   ]
  },
  {
   "cell_type": "code",
   "execution_count": 34,
   "id": "121351ba",
   "metadata": {},
   "outputs": [
    {
     "name": "stdout",
     "output_type": "stream",
     "text": [
      "2 par\n",
      "6 par\n",
      "10 par\n",
      "14 par\n"
     ]
    }
   ],
   "source": [
    "# otra opción del ejemplo anterior pero sin continue\n",
    "end = 16\n",
    "i = 0\n",
    "while True:\n",
    "    \n",
    "    if i % 4 != 0:\n",
    "        if i%2 == 0:\n",
    "            print(f'{i} par')\n",
    "    \n",
    "    if i == end:\n",
    "        break\n",
    "    i +=1"
   ]
  },
  {
   "cell_type": "code",
   "execution_count": null,
   "id": "fbc52d77",
   "metadata": {},
   "outputs": [],
   "source": []
  }
 ],
 "metadata": {
  "kernelspec": {
   "display_name": "Python 3 (ipykernel)",
   "language": "python",
   "name": "python3"
  },
  "language_info": {
   "codemirror_mode": {
    "name": "ipython",
    "version": 3
   },
   "file_extension": ".py",
   "mimetype": "text/x-python",
   "name": "python",
   "nbconvert_exporter": "python",
   "pygments_lexer": "ipython3",
   "version": "3.11.3"
  }
 },
 "nbformat": 4,
 "nbformat_minor": 5
}
