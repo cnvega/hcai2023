{
 "cells": [
  {
   "cell_type": "markdown",
   "id": "afec400c",
   "metadata": {},
   "source": [
    "# Carga de módulos con import\n",
    "\n",
    "Primero, creamos con un editor de texto el script `problemasact4.py`. Luego, cargamos el archivo creado para utilizar sus definiciones:"
   ]
  },
  {
   "cell_type": "code",
   "execution_count": 1,
   "id": "83268458",
   "metadata": {},
   "outputs": [],
   "source": [
    "import problemasact4"
   ]
  },
  {
   "cell_type": "code",
   "execution_count": 2,
   "id": "2e49c017",
   "metadata": {},
   "outputs": [
    {
     "data": {
      "text/plain": [
       "[0, 1, 1, 2, 3, 5, 8, 13]"
      ]
     },
     "execution_count": 2,
     "metadata": {},
     "output_type": "execute_result"
    }
   ],
   "source": [
    "# ahora puedo acceder a las definiciones dentro de problemasact4\n",
    "\n",
    "problemasact4.fibonacci(6)"
   ]
  },
  {
   "cell_type": "code",
   "execution_count": 3,
   "id": "bd950c96",
   "metadata": {},
   "outputs": [],
   "source": [
    "# podemos elegir un nuevo nombre para esta referencia con la instrucción 'as'"
   ]
  },
  {
   "cell_type": "code",
   "execution_count": 4,
   "id": "18571a9f",
   "metadata": {},
   "outputs": [
    {
     "data": {
      "text/plain": [
       "[0, 1, 1, 2, 3, 5, 8, 13]"
      ]
     },
     "execution_count": 4,
     "metadata": {},
     "output_type": "execute_result"
    }
   ],
   "source": [
    "import problemasact4 as p4\n",
    "\n",
    "p4.fibonacci(6)"
   ]
  },
  {
   "cell_type": "code",
   "execution_count": 5,
   "id": "c79ef39d",
   "metadata": {},
   "outputs": [
    {
     "data": {
      "text/plain": [
       "[0, 1, 1, 2, 3, 5, 8, 13]"
      ]
     },
     "execution_count": 5,
     "metadata": {},
     "output_type": "execute_result"
    }
   ],
   "source": [
    "oso = p4\n",
    "oso.fibonacci(6)"
   ]
  },
  {
   "cell_type": "markdown",
   "id": "156cca4d",
   "metadata": {},
   "source": [
    "También se pueden cargar definiciones específicas de un módulo, con:\n"
   ]
  },
  {
   "cell_type": "code",
   "execution_count": 6,
   "id": "030ae736",
   "metadata": {},
   "outputs": [],
   "source": [
    "from problemasact4 import fibonacci "
   ]
  },
  {
   "cell_type": "code",
   "execution_count": 7,
   "id": "8139ad1c",
   "metadata": {},
   "outputs": [
    {
     "data": {
      "text/plain": [
       "[0, 1, 1, 2, 3, 5, 8, 13]"
      ]
     },
     "execution_count": 7,
     "metadata": {},
     "output_type": "execute_result"
    }
   ],
   "source": [
    "fibonacci(6)"
   ]
  },
  {
   "cell_type": "markdown",
   "id": "935a5349",
   "metadata": {},
   "source": [
    "También le puedo asignar un nuevo nombre, igualmente con 'as'"
   ]
  },
  {
   "cell_type": "code",
   "execution_count": 8,
   "id": "2b1afa97",
   "metadata": {},
   "outputs": [
    {
     "data": {
      "text/plain": [
       "[0, 1, 1, 2, 3, 5, 8, 13]"
      ]
     },
     "execution_count": 8,
     "metadata": {},
     "output_type": "execute_result"
    }
   ],
   "source": [
    "from problemasact4 import fibonacci as f\n",
    "f(6)"
   ]
  },
  {
   "cell_type": "markdown",
   "id": "0fd69d2c",
   "metadata": {},
   "source": [
    "En el caso más general, le puedo indicar que me importe **todo** lo definido dentro del módulo, con"
   ]
  },
  {
   "cell_type": "code",
   "execution_count": 9,
   "id": "76c407bd",
   "metadata": {},
   "outputs": [],
   "source": [
    "from problemasact4 import * "
   ]
  },
  {
   "cell_type": "code",
   "execution_count": 10,
   "id": "807cff04",
   "metadata": {},
   "outputs": [
    {
     "data": {
      "text/plain": [
       "{'mundo': 1, 'Hola': 1}"
      ]
     },
     "execution_count": 10,
     "metadata": {},
     "output_type": "execute_result"
    }
   ],
   "source": [
    "contador_palabras(\"Hola mundo\")"
   ]
  },
  {
   "cell_type": "markdown",
   "id": "a605ee4e",
   "metadata": {},
   "source": [
    "**Ejercicio**: Probar definir variables (objetos) dentro del módulo y verificar su visibilidad luego de usar los diferentes tipos de import"
   ]
  },
  {
   "cell_type": "markdown",
   "id": "88144e81",
   "metadata": {},
   "source": [
    "Es importante destacar que la variable de Python `__name__` cambia cuando importamos un módulo:"
   ]
  },
  {
   "cell_type": "code",
   "execution_count": 11,
   "id": "d9f6576b",
   "metadata": {},
   "outputs": [
    {
     "data": {
      "text/plain": [
       "'__main__'"
      ]
     },
     "execution_count": 11,
     "metadata": {},
     "output_type": "execute_result"
    }
   ],
   "source": [
    "__name__"
   ]
  },
  {
   "cell_type": "markdown",
   "id": "a88bdd48",
   "metadata": {},
   "source": [
    "Verificamos que, dentro del módulo, esta variable tiene otro nombre:"
   ]
  },
  {
   "cell_type": "code",
   "execution_count": 12,
   "id": "d40c905c",
   "metadata": {},
   "outputs": [
    {
     "name": "stdout",
     "output_type": "stream",
     "text": [
      "problemasact4\n"
     ]
    }
   ],
   "source": [
    "import problemasact4 as pt4\n",
    "\n",
    "print(pt4.__name__)"
   ]
  },
  {
   "cell_type": "code",
   "execution_count": null,
   "id": "32d44887",
   "metadata": {},
   "outputs": [],
   "source": []
  }
 ],
 "metadata": {
  "kernelspec": {
   "display_name": "Python 3 (ipykernel)",
   "language": "python",
   "name": "python3"
  },
  "language_info": {
   "codemirror_mode": {
    "name": "ipython",
    "version": 3
   },
   "file_extension": ".py",
   "mimetype": "text/x-python",
   "name": "python",
   "nbconvert_exporter": "python",
   "pygments_lexer": "ipython3",
   "version": "3.11.3"
  }
 },
 "nbformat": 4,
 "nbformat_minor": 5
}
