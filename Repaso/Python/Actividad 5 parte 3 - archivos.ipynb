{
 "cells": [
  {
   "cell_type": "markdown",
   "id": "32ccea13",
   "metadata": {},
   "source": [
    "# I/O en Python \n",
    "\n",
    "En esta actividad estudiaremos las estrategias de input/ouput (I/O) dentro del lenguaje"
   ]
  },
  {
   "cell_type": "markdown",
   "id": "190e4151",
   "metadata": {},
   "source": [
    "### Escritura de archivos\n",
    "\n",
    "Los archivos en Python tiene un objeto específico, que se define con la función `open( )`"
   ]
  },
  {
   "cell_type": "code",
   "execution_count": 1,
   "id": "169dfbad",
   "metadata": {},
   "outputs": [],
   "source": [
    "# Crear un archivo (para escribir) nuevo que se llama estudiantes.txt:\n",
    "f = open(\"estudiantes.txt\", \"w\")"
   ]
  },
  {
   "cell_type": "code",
   "execution_count": 2,
   "id": "c3f52e0f",
   "metadata": {},
   "outputs": [
    {
     "data": {
      "text/plain": [
       "6"
      ]
     },
     "execution_count": 2,
     "metadata": {},
     "output_type": "execute_result"
    }
   ],
   "source": [
    "# Para escribir en un archivo, utilizamos el método write ():\n",
    "f.write(\"Marina\")"
   ]
  },
  {
   "cell_type": "code",
   "execution_count": 3,
   "id": "daedad3e",
   "metadata": {},
   "outputs": [],
   "source": [
    "# para \"cerrar\" el archivo (y garantizar que se escriban todos los cambios)\n",
    "# se utiliza close():\n",
    "f.close()"
   ]
  },
  {
   "cell_type": "markdown",
   "id": "ff566de0",
   "metadata": {},
   "source": [
    "El método `write()` no escribe cosas por su cuenta, de modo que siempre es necesario incluir los saltos de linea de forma explícita cuando se utiliza. Por ejemplo:"
   ]
  },
  {
   "cell_type": "code",
   "execution_count": 4,
   "id": "aef55a14",
   "metadata": {},
   "outputs": [],
   "source": [
    "f = open(\"estudiantes.txt\", \"w\")\n",
    "f.write(\"Marina\\n\")\n",
    "f.write(\"Vicente\\n\")\n",
    "f.write(\"Diego\\n\")\n",
    "f.write(\"Cristian, el profe\\n\")\n",
    "f.write(\"Leandro\\n\")\n",
    "f.close()"
   ]
  },
  {
   "cell_type": "markdown",
   "id": "5942c0da",
   "metadata": {},
   "source": [
    "Con esto verificamos que la opción \"w\" sobreescribe archivos. \n",
    "\n",
    "La opción \"r\" me permite abrir un archivo en modo lectura"
   ]
  },
  {
   "cell_type": "code",
   "execution_count": 5,
   "id": "23098f0a",
   "metadata": {},
   "outputs": [],
   "source": [
    "fname = \"estudiantes.txt\"\n",
    "f = open(fname, \"r\")"
   ]
  },
  {
   "cell_type": "markdown",
   "id": "d9b6c029",
   "metadata": {},
   "source": [
    "Para recorrer (leer) un archivo en modo lectura, podemos usar los siguientes métodos:"
   ]
  },
  {
   "cell_type": "code",
   "execution_count": 6,
   "id": "285691a8",
   "metadata": {},
   "outputs": [
    {
     "data": {
      "text/plain": [
       "'Marina\\nVicente\\nDiego\\nCristian, el profe\\nLeandro\\n'"
      ]
     },
     "execution_count": 6,
     "metadata": {},
     "output_type": "execute_result"
    }
   ],
   "source": [
    "# 1: read\n",
    "f.read()"
   ]
  },
  {
   "cell_type": "markdown",
   "id": "0388bbdf",
   "metadata": {},
   "source": [
    "Para volver al inicio del archivo, usamos seek(0):"
   ]
  },
  {
   "cell_type": "code",
   "execution_count": 7,
   "id": "88974b6e",
   "metadata": {},
   "outputs": [
    {
     "data": {
      "text/plain": [
       "'Marina\\nVicente\\nDiego\\nCristian, el profe\\nLeandro\\n'"
      ]
     },
     "execution_count": 7,
     "metadata": {},
     "output_type": "execute_result"
    }
   ],
   "source": [
    "f.seek(0)    # 0 significa \"inicio del archivo\"\n",
    "f.read()"
   ]
  },
  {
   "cell_type": "code",
   "execution_count": 8,
   "id": "d3b96ad3",
   "metadata": {},
   "outputs": [
    {
     "data": {
      "text/plain": [
       "'Marina\\n'"
      ]
     },
     "execution_count": 8,
     "metadata": {},
     "output_type": "execute_result"
    }
   ],
   "source": [
    "# 2: readline()\n",
    "f.seek(0)\n",
    "f.readline()"
   ]
  },
  {
   "cell_type": "code",
   "execution_count": 9,
   "id": "f24f1de1",
   "metadata": {},
   "outputs": [
    {
     "data": {
      "text/plain": [
       "'Vicente\\n'"
      ]
     },
     "execution_count": 9,
     "metadata": {},
     "output_type": "execute_result"
    }
   ],
   "source": [
    "# Cada llamado lee la linea siguiente:\n",
    "f.readline()"
   ]
  },
  {
   "cell_type": "code",
   "execution_count": 10,
   "id": "b9c0fe31",
   "metadata": {},
   "outputs": [
    {
     "data": {
      "text/plain": [
       "['Marina\\n', 'Vicente\\n', 'Diego\\n', 'Cristian, el profe\\n', 'Leandro\\n']"
      ]
     },
     "execution_count": 10,
     "metadata": {},
     "output_type": "execute_result"
    }
   ],
   "source": [
    "# 3: readlines()\n",
    "f.seek(0)\n",
    "f.readlines()"
   ]
  },
  {
   "cell_type": "code",
   "execution_count": 11,
   "id": "c2e9d612",
   "metadata": {},
   "outputs": [
    {
     "name": "stdout",
     "output_type": "stream",
     "text": [
      "Marina\n",
      "Vicente\n",
      "Diego\n",
      "Cristian, el profe\n",
      "Leandro\n"
     ]
    }
   ],
   "source": [
    "# Este usualmente se aplica para leer en un loop:\n",
    "f.seek(0)\n",
    "for line in f.readlines():\n",
    "    print(line, end='')"
   ]
  },
  {
   "cell_type": "markdown",
   "id": "ecfaa2d9",
   "metadata": {},
   "source": [
    "Entre las opciones para abrir archivos, también se incluyen:\n",
    "\n",
    "'a': para agregar cosas al final de un archivo.\n",
    "\n",
    "'r+': combina lectura con escritura"
   ]
  },
  {
   "cell_type": "markdown",
   "id": "e27d786a",
   "metadata": {},
   "source": [
    "### Archivos de datos (ASCII)\n",
    " \n",
    "En el caso de querer leer/escribir datos en un archivo, puedo utilizar las opciones de las strings y \"casteo\" que hemos visto hasta ahora."
   ]
  },
  {
   "cell_type": "code",
   "execution_count": 12,
   "id": "3342a86e",
   "metadata": {},
   "outputs": [],
   "source": [
    "# creamos un archivo con cuadrados y cubos de naturales:\n",
    "f = open(\"cuadcubs.txt\", \"w\")\n",
    "for n in range(15):\n",
    "    f.write(\"{:4d} {:5d} {:6d}\\n\".format(n, n*n, n**3))\n",
    "f.close()"
   ]
  },
  {
   "cell_type": "markdown",
   "id": "62b31869",
   "metadata": {},
   "source": [
    "y para leer este archivo, utilizamos `readlines()`:"
   ]
  },
  {
   "cell_type": "code",
   "execution_count": 13,
   "id": "9b0e610b",
   "metadata": {},
   "outputs": [],
   "source": [
    "n1, n2, n3 = [], [], []\n",
    "f = open(\"cuadcubs.txt\", \"r\")\n",
    "for line in f.readlines():\n",
    "    n1.append(int(line.split()[0]))\n",
    "    n2.append(int(line.split()[1]))\n",
    "    n3.append(int(line.split()[2]))\n",
    "f.close()"
   ]
  },
  {
   "cell_type": "markdown",
   "id": "491e5797",
   "metadata": {},
   "source": [
    "Combinando el método `split()` de las cadenas más la conversión a entero, puedo recuperar los valores de mi archivo:"
   ]
  },
  {
   "cell_type": "code",
   "execution_count": 14,
   "id": "9d53415a",
   "metadata": {},
   "outputs": [
    {
     "data": {
      "text/plain": [
       "[0, 1, 2, 3, 4, 5, 6, 7, 8, 9, 10, 11, 12, 13, 14]"
      ]
     },
     "execution_count": 14,
     "metadata": {},
     "output_type": "execute_result"
    }
   ],
   "source": [
    "n1"
   ]
  },
  {
   "cell_type": "code",
   "execution_count": 15,
   "id": "e7161a7b",
   "metadata": {},
   "outputs": [
    {
     "data": {
      "text/plain": [
       "[0, 1, 4, 9, 16, 25, 36, 49, 64, 81, 100, 121, 144, 169, 196]"
      ]
     },
     "execution_count": 15,
     "metadata": {},
     "output_type": "execute_result"
    }
   ],
   "source": [
    "n2"
   ]
  },
  {
   "cell_type": "code",
   "execution_count": 16,
   "id": "4f0a2c4d",
   "metadata": {},
   "outputs": [
    {
     "data": {
      "text/plain": [
       "[0, 1, 8, 27, 64, 125, 216, 343, 512, 729, 1000, 1331, 1728, 2197, 2744]"
      ]
     },
     "execution_count": 16,
     "metadata": {},
     "output_type": "execute_result"
    }
   ],
   "source": [
    "n3"
   ]
  },
  {
   "cell_type": "code",
   "execution_count": null,
   "id": "0755632b",
   "metadata": {},
   "outputs": [],
   "source": []
  }
 ],
 "metadata": {
  "kernelspec": {
   "display_name": "Python 3 (ipykernel)",
   "language": "python",
   "name": "python3"
  },
  "language_info": {
   "codemirror_mode": {
    "name": "ipython",
    "version": 3
   },
   "file_extension": ".py",
   "mimetype": "text/x-python",
   "name": "python",
   "nbconvert_exporter": "python",
   "pygments_lexer": "ipython3",
   "version": "3.11.3"
  }
 },
 "nbformat": 4,
 "nbformat_minor": 5
}
