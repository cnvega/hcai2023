{
 "cells": [
  {
   "cell_type": "markdown",
   "id": "c3f1e418",
   "metadata": {},
   "source": [
    "# Actividad 3\n",
    "\n",
    "En este notebook exploraremos los tipos de datos compuestos que nos ofrece Python"
   ]
  },
  {
   "cell_type": "markdown",
   "id": "40dc075a",
   "metadata": {},
   "source": [
    "### Listas "
   ]
  },
  {
   "cell_type": "code",
   "execution_count": 1,
   "id": "3db2dc43",
   "metadata": {},
   "outputs": [],
   "source": [
    "# Las listas con secuencias de objetos que sirven \n",
    "# para ordenar/agrupar conjuntos de objetos sin necesidad de ser homogéneos\n",
    "\n",
    "le = []    # Esta es una lista vacia\n",
    "lc = [1, 4, 9, 16]   # Esta es una lista de numeros (los cuadrados)\n",
    "lp = [\"manzana\", \"pera\", \"papaya\", \"oso\", \"papaya\"]"
   ]
  },
  {
   "cell_type": "code",
   "execution_count": 2,
   "id": "af3c4309",
   "metadata": {},
   "outputs": [
    {
     "data": {
      "text/plain": [
       "['__add__',\n",
       " '__class__',\n",
       " '__class_getitem__',\n",
       " '__contains__',\n",
       " '__delattr__',\n",
       " '__delitem__',\n",
       " '__dir__',\n",
       " '__doc__',\n",
       " '__eq__',\n",
       " '__format__',\n",
       " '__ge__',\n",
       " '__getattribute__',\n",
       " '__getitem__',\n",
       " '__getstate__',\n",
       " '__gt__',\n",
       " '__hash__',\n",
       " '__iadd__',\n",
       " '__imul__',\n",
       " '__init__',\n",
       " '__init_subclass__',\n",
       " '__iter__',\n",
       " '__le__',\n",
       " '__len__',\n",
       " '__lt__',\n",
       " '__mul__',\n",
       " '__ne__',\n",
       " '__new__',\n",
       " '__reduce__',\n",
       " '__reduce_ex__',\n",
       " '__repr__',\n",
       " '__reversed__',\n",
       " '__rmul__',\n",
       " '__setattr__',\n",
       " '__setitem__',\n",
       " '__sizeof__',\n",
       " '__str__',\n",
       " '__subclasshook__',\n",
       " 'append',\n",
       " 'clear',\n",
       " 'copy',\n",
       " 'count',\n",
       " 'extend',\n",
       " 'index',\n",
       " 'insert',\n",
       " 'pop',\n",
       " 'remove',\n",
       " 'reverse',\n",
       " 'sort']"
      ]
     },
     "execution_count": 2,
     "metadata": {},
     "output_type": "execute_result"
    }
   ],
   "source": [
    "dir(le)"
   ]
  },
  {
   "cell_type": "code",
   "execution_count": 3,
   "id": "80620c98",
   "metadata": {},
   "outputs": [
    {
     "data": {
      "text/plain": [
       "list"
      ]
     },
     "execution_count": 3,
     "metadata": {},
     "output_type": "execute_result"
    }
   ],
   "source": [
    "# Tienen definido su propio tipo de objeto:\n",
    "type(lc)"
   ]
  },
  {
   "cell_type": "code",
   "execution_count": 4,
   "id": "56297b36",
   "metadata": {},
   "outputs": [
    {
     "data": {
      "text/plain": [
       "1"
      ]
     },
     "execution_count": 4,
     "metadata": {},
     "output_type": "execute_result"
    }
   ],
   "source": [
    "# Las listas las podemos trabajar con indexacion:\n",
    "lc[0]"
   ]
  },
  {
   "cell_type": "code",
   "execution_count": 5,
   "id": "e094852d",
   "metadata": {},
   "outputs": [
    {
     "data": {
      "text/plain": [
       "9"
      ]
     },
     "execution_count": 5,
     "metadata": {},
     "output_type": "execute_result"
    }
   ],
   "source": [
    " lc[2]"
   ]
  },
  {
   "cell_type": "code",
   "execution_count": 6,
   "id": "9db049fa",
   "metadata": {},
   "outputs": [
    {
     "data": {
      "text/plain": [
       "[4, 9]"
      ]
     },
     "execution_count": 6,
     "metadata": {},
     "output_type": "execute_result"
    }
   ],
   "source": [
    "# también permiten el uso de slides: \n",
    "lc[1:3]"
   ]
  },
  {
   "cell_type": "code",
   "execution_count": 7,
   "id": "831cd8ff",
   "metadata": {},
   "outputs": [
    {
     "data": {
      "text/plain": [
       "['papaya', 'oso']"
      ]
     },
     "execution_count": 7,
     "metadata": {},
     "output_type": "execute_result"
    }
   ],
   "source": [
    "lp[2:4]"
   ]
  },
  {
   "cell_type": "code",
   "execution_count": 8,
   "id": "6ad965cb",
   "metadata": {},
   "outputs": [
    {
     "data": {
      "text/plain": [
       "9"
      ]
     },
     "execution_count": 8,
     "metadata": {},
     "output_type": "execute_result"
    }
   ],
   "source": [
    "# y se puede acceder a los sub elementos con el mismo operador []\n",
    "lc[1:3][1]"
   ]
  },
  {
   "cell_type": "code",
   "execution_count": 9,
   "id": "e097eb6e",
   "metadata": {},
   "outputs": [
    {
     "data": {
      "text/plain": [
       "'ap'"
      ]
     },
     "execution_count": 9,
     "metadata": {},
     "output_type": "execute_result"
    }
   ],
   "source": [
    "# Lo anterior es valido para todos los niveles disponibles. Por ejemplo:\n",
    "lp[2:4][0][1:3]"
   ]
  },
  {
   "cell_type": "code",
   "execution_count": 10,
   "id": "88f07415",
   "metadata": {},
   "outputs": [
    {
     "data": {
      "text/plain": [
       "False"
      ]
     },
     "execution_count": 10,
     "metadata": {},
     "output_type": "execute_result"
    }
   ],
   "source": [
    "lp[2:4][0][1:3].isnumeric()"
   ]
  },
  {
   "cell_type": "code",
   "execution_count": 11,
   "id": "ecf10bc4",
   "metadata": {},
   "outputs": [
    {
     "data": {
      "text/plain": [
       "'papaya'"
      ]
     },
     "execution_count": 11,
     "metadata": {},
     "output_type": "execute_result"
    }
   ],
   "source": [
    "# También funcionan los negativos en la indexación (y sus slides)\n",
    "lp[-1]"
   ]
  },
  {
   "cell_type": "code",
   "execution_count": 12,
   "id": "1b468928",
   "metadata": {},
   "outputs": [
    {
     "data": {
      "text/plain": [
       "[9, 16]"
      ]
     },
     "execution_count": 12,
     "metadata": {},
     "output_type": "execute_result"
    }
   ],
   "source": [
    "lc[-2:]"
   ]
  },
  {
   "cell_type": "code",
   "execution_count": 13,
   "id": "23a2cf9d",
   "metadata": {},
   "outputs": [
    {
     "data": {
      "text/plain": [
       "[1, 4, 9, 16, 25, 36]"
      ]
     },
     "execution_count": 13,
     "metadata": {},
     "output_type": "execute_result"
    }
   ],
   "source": [
    "# Las listas también permiten el uso de los operadores + y *\n",
    "lc + [25, 36]"
   ]
  },
  {
   "cell_type": "code",
   "execution_count": 14,
   "id": "786ba551",
   "metadata": {},
   "outputs": [
    {
     "data": {
      "text/plain": [
       "['manzana', 'pera', 'papaya', 'oso', 'papaya', 'papaya', 'papaya', 'papaya']"
      ]
     },
     "execution_count": 14,
     "metadata": {},
     "output_type": "execute_result"
    }
   ],
   "source": [
    "lp + 3*[lp[4]]"
   ]
  },
  {
   "cell_type": "code",
   "execution_count": 15,
   "id": "41c6f42c",
   "metadata": {},
   "outputs": [
    {
     "data": {
      "text/plain": [
       "['manzana', 'pera', 'papaya', 'oso', 'uva']"
      ]
     },
     "execution_count": 15,
     "metadata": {},
     "output_type": "execute_result"
    }
   ],
   "source": [
    "# A diferencia de las strings, las listas SI son modificables:\n",
    "lp[-1] = \"uva\"\n",
    "lp"
   ]
  },
  {
   "cell_type": "code",
   "execution_count": 16,
   "id": "e04950d0",
   "metadata": {},
   "outputs": [],
   "source": [
    "# La modificacion incluso se puede hacer con slides:\n",
    "cubos = [1, 5, 25, 64]"
   ]
  },
  {
   "cell_type": "code",
   "execution_count": 31,
   "id": "dd2531fc",
   "metadata": {},
   "outputs": [
    {
     "data": {
      "text/plain": [
       "[1, 8, 27, 64]"
      ]
     },
     "execution_count": 31,
     "metadata": {},
     "output_type": "execute_result"
    }
   ],
   "source": [
    "cubos[1:3] = [8, 27]\n",
    "cubos"
   ]
  },
  {
   "cell_type": "code",
   "execution_count": 17,
   "id": "3a96059f",
   "metadata": {},
   "outputs": [],
   "source": [
    "# Además, nos permiten almacenar cosas que no son del mismo tipo.\n",
    "rand = [0, \"hola\", []]   # si! incluyendo otras listas!"
   ]
  },
  {
   "cell_type": "markdown",
   "id": "7605dce4",
   "metadata": {},
   "source": [
    "### Advertencia!\n",
    "\n",
    "Las copias de los objetos tipo lista debe ser siempre explícita, dado que el = usualmente asigna una referencia nueva a un objeto ya existente."
   ]
  },
  {
   "cell_type": "code",
   "execution_count": 18,
   "id": "1c7e2254",
   "metadata": {},
   "outputs": [],
   "source": [
    "# ejemplo: creamos una lista y usamos = para estudiar si se genera una copia:\n",
    "l1 = [1,3,5,7]\n",
    "l2 = l1"
   ]
  },
  {
   "cell_type": "code",
   "execution_count": 19,
   "id": "3e9815b5",
   "metadata": {},
   "outputs": [],
   "source": [
    "# si modifico l1, qué pasa con l2?\n",
    "l1[3] = 0"
   ]
  },
  {
   "cell_type": "code",
   "execution_count": 20,
   "id": "c426adea",
   "metadata": {},
   "outputs": [
    {
     "data": {
      "text/plain": [
       "[1, 3, 5, 0]"
      ]
     },
     "execution_count": 20,
     "metadata": {},
     "output_type": "execute_result"
    }
   ],
   "source": [
    "l1"
   ]
  },
  {
   "cell_type": "code",
   "execution_count": 21,
   "id": "35523a2c",
   "metadata": {},
   "outputs": [
    {
     "data": {
      "text/plain": [
       "[1, 3, 5, 0]"
      ]
     },
     "execution_count": 21,
     "metadata": {},
     "output_type": "execute_result"
    }
   ],
   "source": [
    "l2"
   ]
  },
  {
   "cell_type": "markdown",
   "id": "aa869178",
   "metadata": {},
   "source": [
    "Entonces, concluimos que al ejecutar `l2 = l1` **no** creamos una copia, sino que asignamos **una nueva referencia al mismo objeto `l1`**."
   ]
  },
  {
   "cell_type": "code",
   "execution_count": 23,
   "id": "ed0190ac",
   "metadata": {},
   "outputs": [
    {
     "data": {
      "text/plain": [
       "[1, 3, 5, 7]"
      ]
     },
     "execution_count": 23,
     "metadata": {},
     "output_type": "execute_result"
    }
   ],
   "source": [
    "# Para copiar una lista, puedo usar un método dedicado a ello, o el slide [:]\n",
    "l1 = [1,3,5,7]\n",
    "l2 = l1[:]\n",
    "\n",
    "l1[3] = 0\n",
    "l2"
   ]
  },
  {
   "cell_type": "markdown",
   "id": "c07a7518",
   "metadata": {},
   "source": [
    "Las listas tienen un conjunto interesante de métodos para usar."
   ]
  },
  {
   "cell_type": "code",
   "execution_count": 24,
   "id": "5fe11c34",
   "metadata": {},
   "outputs": [
    {
     "data": {
      "text/plain": [
       "['manzana', 'pera', 'papaya', 'oso', 'papaya', 'papaya']"
      ]
     },
     "execution_count": 24,
     "metadata": {},
     "output_type": "execute_result"
    }
   ],
   "source": [
    "# Agregar objetos al final:\n",
    "lp = [\"manzana\", \"pera\", \"papaya\", \"oso\", \"papaya\"]\n",
    "lp.append(\"papaya\")\n",
    "lp"
   ]
  },
  {
   "cell_type": "code",
   "execution_count": 25,
   "id": "f997250a",
   "metadata": {},
   "outputs": [
    {
     "data": {
      "text/plain": [
       "['platano', 'manzana', 'pera', 'papaya', 'oso', 'papaya', 'papaya']"
      ]
     },
     "execution_count": 25,
     "metadata": {},
     "output_type": "execute_result"
    }
   ],
   "source": [
    "# o en una posicion determinada:\n",
    "lp.insert(0, \"platano\")\n",
    "lp"
   ]
  },
  {
   "cell_type": "code",
   "execution_count": 26,
   "id": "8552bc95",
   "metadata": {},
   "outputs": [
    {
     "data": {
      "text/plain": [
       "'papaya'"
      ]
     },
     "execution_count": 26,
     "metadata": {},
     "output_type": "execute_result"
    }
   ],
   "source": [
    "# Remover el ultimo elemento indexado (u otro, detallando\n",
    "# el indice como agumento)\n",
    "lp.pop()"
   ]
  },
  {
   "cell_type": "code",
   "execution_count": 27,
   "id": "1089c996",
   "metadata": {},
   "outputs": [
    {
     "data": {
      "text/plain": [
       "'platano'"
      ]
     },
     "execution_count": 27,
     "metadata": {},
     "output_type": "execute_result"
    }
   ],
   "source": [
    "lp.pop(0)"
   ]
  },
  {
   "cell_type": "code",
   "execution_count": 28,
   "id": "7422219f",
   "metadata": {},
   "outputs": [
    {
     "data": {
      "text/plain": [
       "'papaya'"
      ]
     },
     "execution_count": 28,
     "metadata": {},
     "output_type": "execute_result"
    }
   ],
   "source": [
    "lp.pop()"
   ]
  },
  {
   "cell_type": "code",
   "execution_count": 29,
   "id": "1dac6ea5",
   "metadata": {},
   "outputs": [
    {
     "name": "stdout",
     "output_type": "stream",
     "text": [
      "['manzana', 'pera', 'papaya', 'oso']\n"
     ]
    }
   ],
   "source": [
    "# Nuestra lista se actualiza por cada extracción:\n",
    "print(lp)"
   ]
  },
  {
   "cell_type": "code",
   "execution_count": 30,
   "id": "23d8e471",
   "metadata": {},
   "outputs": [
    {
     "data": {
      "text/plain": [
       "['manzana', 'papaya', 'oso']"
      ]
     },
     "execution_count": 30,
     "metadata": {},
     "output_type": "execute_result"
    }
   ],
   "source": [
    "# para remover un elemento en particular\n",
    "lp.remove('pera')\n",
    "lp"
   ]
  },
  {
   "cell_type": "code",
   "execution_count": 31,
   "id": "6974e879",
   "metadata": {},
   "outputs": [
    {
     "data": {
      "text/plain": [
       "['manzana', 'oso', 'papaya']"
      ]
     },
     "execution_count": 31,
     "metadata": {},
     "output_type": "execute_result"
    }
   ],
   "source": [
    "# para ordenar los elementos de la lista:\n",
    "lp.sort()\n",
    "lp"
   ]
  },
  {
   "cell_type": "code",
   "execution_count": 32,
   "id": "cdf838eb",
   "metadata": {},
   "outputs": [
    {
     "data": {
      "text/plain": [
       "2"
      ]
     },
     "execution_count": 32,
     "metadata": {},
     "output_type": "execute_result"
    }
   ],
   "source": [
    "# podemos contar el número de coincidencias de un elemento:\n",
    "lp = [\"manzana\", \"pera\", \"papaya\", \"oso\", \"papaya\"]\n",
    "lp.count(\"papaya\")"
   ]
  },
  {
   "cell_type": "code",
   "execution_count": 33,
   "id": "1410649e",
   "metadata": {},
   "outputs": [
    {
     "data": {
      "text/plain": [
       "5"
      ]
     },
     "execution_count": 33,
     "metadata": {},
     "output_type": "execute_result"
    }
   ],
   "source": [
    "# len() también nos da el número de elementos:\n",
    "len(lp)"
   ]
  },
  {
   "cell_type": "code",
   "execution_count": 35,
   "id": "2dcf1209",
   "metadata": {},
   "outputs": [
    {
     "name": "stdout",
     "output_type": "stream",
     "text": [
      "Help on built-in function remove:\n",
      "\n",
      "remove(value, /) method of builtins.list instance\n",
      "    Remove first occurrence of value.\n",
      "    \n",
      "    Raises ValueError if the value is not present.\n",
      "\n"
     ]
    }
   ],
   "source": [
    "# Siempre podemos verificar la documentación de cada método implementado. Por ejemplo:\n",
    "help(lp.remove)"
   ]
  },
  {
   "cell_type": "code",
   "execution_count": null,
   "id": "a2e3126d",
   "metadata": {},
   "outputs": [],
   "source": []
  },
  {
   "cell_type": "code",
   "execution_count": null,
   "id": "45c499c5",
   "metadata": {},
   "outputs": [],
   "source": []
  }
 ],
 "metadata": {
  "kernelspec": {
   "display_name": "Python 3 (ipykernel)",
   "language": "python",
   "name": "python3"
  },
  "language_info": {
   "codemirror_mode": {
    "name": "ipython",
    "version": 3
   },
   "file_extension": ".py",
   "mimetype": "text/x-python",
   "name": "python",
   "nbconvert_exporter": "python",
   "pygments_lexer": "ipython3",
   "version": "3.11.3"
  }
 },
 "nbformat": 4,
 "nbformat_minor": 5
}
