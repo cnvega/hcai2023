{
 "cells": [
  {
   "cell_type": "markdown",
   "id": "f259d90c-b61f-4446-81f6-80b36eff398d",
   "metadata": {},
   "source": [
    "Crearemos un archivo de texto plano, de formato libre:"
   ]
  },
  {
   "cell_type": "code",
   "execution_count": 1,
   "id": "0d9f8e60-886a-4fa2-b07b-75d7c7bad563",
   "metadata": {},
   "outputs": [],
   "source": [
    "import numpy "
   ]
  },
  {
   "cell_type": "code",
   "execution_count": 7,
   "id": "320fdb33-c9aa-486d-80ab-31199154d25c",
   "metadata": {},
   "outputs": [],
   "source": [
    "a = numpy.random.normal(size=1500000)"
   ]
  },
  {
   "cell_type": "code",
   "execution_count": 13,
   "id": "f3b401ae-2f08-4b86-a5b6-bb6e315a03d4",
   "metadata": {},
   "outputs": [
    {
     "data": {
      "text/plain": [
       "array([-0.75051403,  1.51339126, -0.25740155, ...,  0.62959775,\n",
       "        0.03797129,  0.2568972 ])"
      ]
     },
     "execution_count": 13,
     "metadata": {},
     "output_type": "execute_result"
    }
   ],
   "source": [
    "a"
   ]
  },
  {
   "cell_type": "markdown",
   "id": "5fe359f5-1397-45b4-a773-6ec8a89bf8fd",
   "metadata": {},
   "source": [
    "Para crear/leer un archivo plano en Python, puedo usar la función built-in open."
   ]
  },
  {
   "cell_type": "code",
   "execution_count": 28,
   "id": "1f2b0774-37bf-469f-bd4e-32edfc240a3c",
   "metadata": {},
   "outputs": [],
   "source": [
    "f = open(\"ejemplo.txt\", \"w\") # Con esto creamos un archivo. Sobreescribimos si existe."
   ]
  },
  {
   "cell_type": "markdown",
   "id": "c5f3e23c-b7dc-4c13-a764-00ecd35525ce",
   "metadata": {},
   "source": [
    "Para escribir en el archivo, utilizamos el método write que recibe strings como argumento."
   ]
  },
  {
   "cell_type": "code",
   "execution_count": 29,
   "id": "8759e65b-526e-4c35-8696-bedb339c69c7",
   "metadata": {},
   "outputs": [
    {
     "data": {
      "text/plain": [
       "30"
      ]
     },
     "execution_count": 29,
     "metadata": {},
     "output_type": "execute_result"
    }
   ],
   "source": [
    "f.write(\"# Este es un archivo de texto\\n\")  # ojo con el salto de línea \\n "
   ]
  },
  {
   "cell_type": "code",
   "execution_count": 30,
   "id": "4586dc7d-815f-4aab-8999-3494b10eba28",
   "metadata": {},
   "outputs": [
    {
     "data": {
      "text/plain": [
       "21"
      ]
     },
     "execution_count": 30,
     "metadata": {},
     "output_type": "execute_result"
    }
   ],
   "source": [
    "f.write(\"# esta es otra línea\\n\")"
   ]
  },
  {
   "cell_type": "code",
   "execution_count": 31,
   "id": "af90bb90-e036-4509-94b9-c064f644ff45",
   "metadata": {},
   "outputs": [],
   "source": [
    "# Es importante cerrar el archivo para que los procesos de escritura se completen:\n",
    "f.close()"
   ]
  },
  {
   "cell_type": "markdown",
   "id": "96d24a2b-7c93-475e-aea7-5024f463b254",
   "metadata": {},
   "source": [
    "Para evitar perder información debido a olvidos de cerrar archivos, se recomienda utilizar `with`:"
   ]
  },
  {
   "cell_type": "markdown",
   "id": "cdd9beba-b2bf-4863-a111-a4dcd4e6d82e",
   "metadata": {},
   "source": [
    "Ahora vamos a almacenar nuestros datos, de modo que cada línea se un registro y cada columna un campo, separados por espacio.\n",
    "\n",
    "Dos columnas: número entero y valor"
   ]
  },
  {
   "cell_type": "code",
   "execution_count": 59,
   "id": "ae18f163-824e-47b0-ba45-b6582c802323",
   "metadata": {},
   "outputs": [],
   "source": [
    "with open(\"datos.txt\", \"w\") as f:\n",
    "    for i in range(len(a)):\n",
    "        f.write(\"{:06d} {:.6f}\\n\".format(i, a[i]))"
   ]
  },
  {
   "cell_type": "markdown",
   "id": "6aa43c95-5d20-4577-b3fa-f351af0dd1f4",
   "metadata": {},
   "source": [
    "Para leer un archivo, usamos el mismo procedimiento pero le damos el indicador le lectura 'r' a `open`"
   ]
  },
  {
   "cell_type": "code",
   "execution_count": 60,
   "id": "5d6450c1-250d-4125-9de3-52ebfb20d2cc",
   "metadata": {},
   "outputs": [],
   "source": [
    "f = open(\"datos.txt\", \"r\")\n",
    "ar = f.readlines()  # esto lee todo el archivo y crea un lista de lineas tipo string."
   ]
  },
  {
   "cell_type": "markdown",
   "id": "b4f8d804-6702-4cd3-bd4d-1b0a8bf2b9d7",
   "metadata": {},
   "source": [
    "`ar` es un objeto tipo lista, donde cada elemento correspone a una línea del archivo (string)"
   ]
  },
  {
   "cell_type": "markdown",
   "id": "7cd069e0-2253-41e3-b900-22024d82189b",
   "metadata": {},
   "source": [
    "Si queremos regresar al inicio del archivo para volver a leer, usamos `seek`"
   ]
  },
  {
   "cell_type": "code",
   "execution_count": 61,
   "id": "501d86f7-f50b-46d0-848a-45bdf85712bb",
   "metadata": {},
   "outputs": [
    {
     "data": {
      "text/plain": [
       "0"
      ]
     },
     "execution_count": 61,
     "metadata": {},
     "output_type": "execute_result"
    }
   ],
   "source": [
    "f.seek(0) # con esto \"reseteamos\" nuestro archivo"
   ]
  },
  {
   "cell_type": "markdown",
   "id": "e50f6309-f4e7-4ade-ba14-f8e2ad2d2915",
   "metadata": {},
   "source": [
    "También podemos usar `readline` para leer una única línea:"
   ]
  },
  {
   "cell_type": "code",
   "execution_count": 62,
   "id": "3167d47b-59d2-492c-a40c-e38161155bff",
   "metadata": {},
   "outputs": [],
   "source": [
    "l = f.readline()"
   ]
  },
  {
   "cell_type": "markdown",
   "id": "231a6507-fdf8-47b1-a758-e3f881d6d3e2",
   "metadata": {},
   "source": [
    "Esta `l` es una lista que podemos separa con el método de las strings `split`, y cada uno de esos elementos los podemos convertir a números conociento previamente el formato:"
   ]
  },
  {
   "cell_type": "code",
   "execution_count": 63,
   "id": "ef98b833-c339-4de8-952d-a1aef3bfc06b",
   "metadata": {},
   "outputs": [
    {
     "data": {
      "text/plain": [
       "['000000', '-0.750514']"
      ]
     },
     "execution_count": 63,
     "metadata": {},
     "output_type": "execute_result"
    }
   ],
   "source": [
    "l.split()   # los elementos separados!"
   ]
  },
  {
   "cell_type": "code",
   "execution_count": 64,
   "id": "9e3af6c0-fd70-4e01-ab1e-428e04bef643",
   "metadata": {},
   "outputs": [
    {
     "data": {
      "text/plain": [
       "'-0.750514'"
      ]
     },
     "execution_count": 64,
     "metadata": {},
     "output_type": "execute_result"
    }
   ],
   "source": [
    "l.split()[1]   # podemos seleccionar el que nos interesa!"
   ]
  },
  {
   "cell_type": "code",
   "execution_count": 65,
   "id": "1e47760b-4e5d-4168-a0fb-6ba61ff0ea37",
   "metadata": {},
   "outputs": [
    {
     "data": {
      "text/plain": [
       "-0.750514"
      ]
     },
     "execution_count": 65,
     "metadata": {},
     "output_type": "execute_result"
    }
   ],
   "source": [
    "float(l.split()[1])  # y lo convertimos a flotante!"
   ]
  },
  {
   "cell_type": "markdown",
   "id": "66784d13-1c80-4a80-b42c-e45ce01e5830",
   "metadata": {},
   "source": [
    "# ... TBC"
   ]
  },
  {
   "cell_type": "code",
   "execution_count": null,
   "id": "f12696ec-3605-45fc-b232-3bd990c471aa",
   "metadata": {},
   "outputs": [],
   "source": []
  }
 ],
 "metadata": {
  "kernelspec": {
   "display_name": "Python 3 (ipykernel)",
   "language": "python",
   "name": "python3"
  },
  "language_info": {
   "codemirror_mode": {
    "name": "ipython",
    "version": 3
   },
   "file_extension": ".py",
   "mimetype": "text/x-python",
   "name": "python",
   "nbconvert_exporter": "python",
   "pygments_lexer": "ipython3",
   "version": "3.11.5"
  }
 },
 "nbformat": 4,
 "nbformat_minor": 5
}
