{
 "cells": [
  {
   "cell_type": "markdown",
   "id": "0437e732-fece-4669-8b6a-d1ef9d1b2c49",
   "metadata": {},
   "source": [
    "Probamos que la librería de acceso a archivos HDF5 de Python, `h5py`, funciona correctamente:"
   ]
  },
  {
   "cell_type": "code",
   "execution_count": 2,
   "id": "4192c2b3-24a5-49a6-a1cc-510dd76f67f1",
   "metadata": {},
   "outputs": [],
   "source": [
    "import h5py "
   ]
  },
  {
   "cell_type": "code",
   "execution_count": 3,
   "id": "4ca696dd-cb3a-4149-b48a-8d73fdcdaf58",
   "metadata": {},
   "outputs": [],
   "source": [
    "# Creamos un archivo en modo escritura\n",
    "f = h5py.File(\"test.h5\", \"w\")"
   ]
  },
  {
   "cell_type": "code",
   "execution_count": 4,
   "id": "6641b5f9-955e-43dd-8db8-8d6ae0cacb12",
   "metadata": {},
   "outputs": [],
   "source": [
    "# lo cerramos:\n",
    "f.close()"
   ]
  },
  {
   "cell_type": "markdown",
   "id": "e5d62840-27d8-475f-beec-4ecc69eb3a3c",
   "metadata": {},
   "source": [
    "### Tipos de datos que almacena un HDF5"
   ]
  },
  {
   "cell_type": "markdown",
   "id": "a9cecbad-1e6f-4806-873a-c1b8ffac85dc",
   "metadata": {},
   "source": [
    "#### Grupos:\n",
    "Podemos crear grupos en un archivo, aunque estos se pueden crear automáticamente al momento de guardar un dataset"
   ]
  },
  {
   "cell_type": "code",
   "execution_count": 5,
   "id": "85a475c8-3f5c-45c2-aac9-af7af557600a",
   "metadata": {},
   "outputs": [],
   "source": [
    "# Abrimos el archivo anterior en modo lectura y escritura:\n",
    "f = h5py.File(\"test.h5\", \"r+\") "
   ]
  },
  {
   "cell_type": "code",
   "execution_count": 6,
   "id": "9f2f9ff5-f77d-40cb-86dd-08952bc1ed27",
   "metadata": {},
   "outputs": [
    {
     "data": {
      "text/plain": [
       "<HDF5 group \"/Data\" (0 members)>"
      ]
     },
     "execution_count": 6,
     "metadata": {},
     "output_type": "execute_result"
    }
   ],
   "source": [
    "f.create_group(\"Header\")\n",
    "f.create_group(\"Data\")"
   ]
  },
  {
   "cell_type": "code",
   "execution_count": 7,
   "id": "e972bf86-7435-4f13-b479-6762f4206899",
   "metadata": {},
   "outputs": [
    {
     "data": {
      "text/plain": [
       "['Data', 'Header']"
      ]
     },
     "execution_count": 7,
     "metadata": {},
     "output_type": "execute_result"
    }
   ],
   "source": [
    "# Para consultar lo que hay en un archivo, usamos .keys()\n",
    "list(f.keys())"
   ]
  },
  {
   "cell_type": "code",
   "execution_count": 8,
   "id": "3ed815c6-6271-4c80-bb2d-3409f6e6c583",
   "metadata": {},
   "outputs": [],
   "source": [
    "f.close()"
   ]
  },
  {
   "cell_type": "markdown",
   "id": "835e897e-564b-40e8-b0d6-096ebe410133",
   "metadata": {},
   "source": [
    "#### Datasets:\n",
    "Podemos crear datasets vacios (de cierto tamaño y tipo de dato definido), así como \"llenos\" directamente."
   ]
  },
  {
   "cell_type": "code",
   "execution_count": 9,
   "id": "0ddfac06-5a10-4e4d-a58f-67d0799f287e",
   "metadata": {},
   "outputs": [],
   "source": [
    "# Cargamos datos del ejemplo de la clase:\n",
    "import numpy as np\n",
    "\n",
    "rand1 = np.loadtxt(\"datos.txt\", usecols=[1], unpack=True) "
   ]
  },
  {
   "cell_type": "code",
   "execution_count": 10,
   "id": "84c54196-4066-4271-9651-51d03ac06287",
   "metadata": {},
   "outputs": [],
   "source": [
    "# Abrimos nuevamente el archivo en modo r+:\n",
    "f = h5py.File(\"test.h5\", \"r+\") "
   ]
  },
  {
   "cell_type": "code",
   "execution_count": 11,
   "id": "beadee79-723e-484b-9499-27da74e9d3b3",
   "metadata": {},
   "outputs": [],
   "source": [
    "# Almacenamos nuestro array:\n",
    "f[\"rand1\"] = rand1"
   ]
  },
  {
   "cell_type": "code",
   "execution_count": 12,
   "id": "ced72177-c115-4b61-a4da-3221d8693dfa",
   "metadata": {},
   "outputs": [],
   "source": [
    "f.close()"
   ]
  },
  {
   "cell_type": "markdown",
   "id": "6e14f8ed-63ef-429a-a47b-b4d5b6481130",
   "metadata": {},
   "source": [
    "También se puede agregar datos dentro de los grupos:"
   ]
  },
  {
   "cell_type": "code",
   "execution_count": 13,
   "id": "0f432190-7926-4f96-9520-736907252939",
   "metadata": {},
   "outputs": [],
   "source": [
    "f = h5py.File(\"test.h5\", \"r+\") \n",
    "f[\"Data/rand2\"] = rand1+10.7"
   ]
  },
  {
   "cell_type": "code",
   "execution_count": 14,
   "id": "fb7dc214-ffe7-43c9-aab4-b2873759fcb6",
   "metadata": {},
   "outputs": [],
   "source": [
    "f.close()"
   ]
  },
  {
   "cell_type": "markdown",
   "id": "314b8149-e9a5-4d7a-8803-5a3a9af2be1f",
   "metadata": {},
   "source": [
    "Incluso, los grupos nuevos se crean automáticamente al momento de almacenar un dataset:"
   ]
  },
  {
   "cell_type": "code",
   "execution_count": 15,
   "id": "4fcd6f1a-f6eb-459b-849c-301b8872f1bc",
   "metadata": {},
   "outputs": [],
   "source": [
    "f = h5py.File(\"test.h5\", \"r+\") \n",
    "f[\"DataBad/rand3\"] = rand1/0.68"
   ]
  },
  {
   "cell_type": "code",
   "execution_count": 16,
   "id": "f1dcf94b-6bf0-4160-bc12-308ab6253617",
   "metadata": {},
   "outputs": [],
   "source": [
    "f.close()"
   ]
  },
  {
   "cell_type": "markdown",
   "id": "7e9f44b2-94bc-4d2c-ac9d-146346ef9856",
   "metadata": {},
   "source": [
    "Para leer los datos, utilizamos la misma estrategia que los objetos compuestos de numpy utilizando el objeto que contiene el archivo HDF5:"
   ]
  },
  {
   "cell_type": "code",
   "execution_count": 17,
   "id": "a8269fe2-7982-4182-906c-0790c048a456",
   "metadata": {},
   "outputs": [],
   "source": [
    "f = h5py.File(\"test.h5\", \"r\")"
   ]
  },
  {
   "cell_type": "code",
   "execution_count": 18,
   "id": "06e46467-87f2-40c6-abd9-5ffc3f8b92c8",
   "metadata": {},
   "outputs": [
    {
     "data": {
      "text/plain": [
       "array([-0.750514,  1.513391, -0.257402,  2.42373 , -0.937215,  0.607678,\n",
       "       -0.802247, -0.03792 , -1.16919 , -1.32793 , -1.44829 ,  0.434063,\n",
       "       -0.888893,  1.350377, -0.389023,  0.154864, -1.156754, -1.201204,\n",
       "       -0.622379,  0.389723,  0.584301,  1.207718,  0.113014, -1.357977,\n",
       "       -0.048609, -0.230104, -0.647716,  0.394307,  0.467628,  0.684698,\n",
       "        1.343784,  0.045572,  0.888684,  1.378604,  0.309605, -0.115059,\n",
       "        0.074366,  1.317366,  2.239764,  0.195176, -1.171153, -1.399296,\n",
       "       -0.244733,  0.890791, -0.007609, -0.335468,  0.807286,  1.854221,\n",
       "        0.395264,  0.748414])"
      ]
     },
     "execution_count": 18,
     "metadata": {},
     "output_type": "execute_result"
    }
   ],
   "source": [
    "# utilizando el label y el operador de indexación se puede acceder al contenido del archivo:\n",
    "f['rand1'][:50]"
   ]
  },
  {
   "cell_type": "code",
   "execution_count": 19,
   "id": "694ee360-c914-4273-ab4d-9b2c8a6f6ff4",
   "metadata": {},
   "outputs": [],
   "source": [
    "# Para trabajar con los datos del HDF5, es conveniente copiar los valores a la memoria RAM:\n",
    "mi_array= f['rand1'][:]"
   ]
  },
  {
   "cell_type": "code",
   "execution_count": 20,
   "id": "efc4f044-92f8-430e-8670-49c911b224a5",
   "metadata": {},
   "outputs": [
    {
     "data": {
      "text/plain": [
       "array([-0.750514,  1.513391, -0.257402, ...,  0.629598,  0.037971,\n",
       "        0.256897])"
      ]
     },
     "execution_count": 20,
     "metadata": {},
     "output_type": "execute_result"
    }
   ],
   "source": [
    "mi_array"
   ]
  },
  {
   "cell_type": "code",
   "execution_count": 21,
   "id": "85e013b8-c4db-4bbd-b013-c82cd0268b4c",
   "metadata": {},
   "outputs": [],
   "source": [
    "f.close()"
   ]
  },
  {
   "cell_type": "markdown",
   "id": "60f50219-f5ff-4df9-8f0d-2a61dd5cd1ac",
   "metadata": {},
   "source": [
    "## Segunda clase de HDF5\n",
    "Exploramos nuestro archivo creado:"
   ]
  },
  {
   "cell_type": "code",
   "execution_count": 23,
   "id": "40d3e9b1-646b-4c98-aa8a-c47d1da281ae",
   "metadata": {},
   "outputs": [],
   "source": [
    "import h5py\n",
    "f = h5py.File(\"test.h5\", \"r\")"
   ]
  },
  {
   "cell_type": "code",
   "execution_count": 24,
   "id": "07162c6c-d18d-4d98-af14-a625fb4d3b75",
   "metadata": {},
   "outputs": [
    {
     "data": {
      "text/plain": [
       "<KeysViewHDF5 ['Data', 'DataBad', 'Header', 'rand1']>"
      ]
     },
     "execution_count": 24,
     "metadata": {},
     "output_type": "execute_result"
    }
   ],
   "source": [
    "f.keys()"
   ]
  },
  {
   "cell_type": "code",
   "execution_count": 25,
   "id": "cecbc148-a956-45c7-bae6-2570d028a4ac",
   "metadata": {},
   "outputs": [
    {
     "data": {
      "text/plain": [
       "h5py._hl.dataset.Dataset"
      ]
     },
     "execution_count": 25,
     "metadata": {},
     "output_type": "execute_result"
    }
   ],
   "source": [
    "# Si queremos ver que es cada cosa, tenemos que preguntar a sus referencias respectivas\n",
    "r = f['rand1']\n",
    "type(r)"
   ]
  },
  {
   "cell_type": "code",
   "execution_count": 26,
   "id": "fa1c813c-c112-4b77-b452-f1389d1a41cf",
   "metadata": {},
   "outputs": [
    {
     "data": {
      "text/plain": [
       "h5py._hl.group.Group"
      ]
     },
     "execution_count": 26,
     "metadata": {},
     "output_type": "execute_result"
    }
   ],
   "source": [
    "g = f['Data']\n",
    "type(g)"
   ]
  },
  {
   "cell_type": "code",
   "execution_count": 28,
   "id": "4a77fb1d-6fbf-44c2-86d2-47bc6c664b25",
   "metadata": {},
   "outputs": [],
   "source": [
    "# Recordamos que r es una referencia al dataset, por lo tanto NO está en memoria RAM. \n",
    "# Para ello, debemos COPIAR los datos del disco a la RAM utilizando [:]\n",
    "rand_ram = r[:]"
   ]
  },
  {
   "cell_type": "code",
   "execution_count": 29,
   "id": "efbb1da6-4597-4016-b57b-d1730d167099",
   "metadata": {},
   "outputs": [
    {
     "data": {
      "text/plain": [
       "array([-0.750514,  1.513391, -0.257402, ...,  0.629598,  0.037971,\n",
       "        0.256897])"
      ]
     },
     "execution_count": 29,
     "metadata": {},
     "output_type": "execute_result"
    }
   ],
   "source": [
    "# Ahora es un lindo array de numpy:\n",
    "rand_ram"
   ]
  },
  {
   "cell_type": "code",
   "execution_count": 30,
   "id": "c44b6ea9-f04e-4b93-98a3-0089af835d10",
   "metadata": {},
   "outputs": [],
   "source": [
    "f.close()"
   ]
  },
  {
   "cell_type": "markdown",
   "id": "d8543595-46a6-4082-a4f2-79db2a941715",
   "metadata": {},
   "source": [
    "#### Atributos\n",
    "Para usar los atributos, la librería incorpora un componente (objeto) que se llama `attrs`, y está asociado a todos los objetos HDF5, ya sea file, dataset y group.\n",
    "\n",
    "Los atributos nos sirven para agregar **información** adicional que me permita tener registro sobre qué son los datos incluidos en el archivo. Estos son, justamente, los **metadatos** asociados a mis datos. \n",
    "\n",
    "METADATOS útiles en el contexto astronómico:\n",
    "\n",
    "- Fecha de creación y lugar.\n",
    "- Versión del código utilizado.\n",
    "- Modificaciones a la versión utilizada.\n",
    "- Parámetros utilizados.\n",
    "- Opciones de compilación.\n",
    "- Naturaleza de los datos (¿qué son?).\n",
    "- Unidades.\n",
    "- etc..."
   ]
  },
  {
   "cell_type": "code",
   "execution_count": 31,
   "id": "cc91126a-05f4-44d3-a952-70a9890425e8",
   "metadata": {},
   "outputs": [],
   "source": [
    "f = h5py.File(\"test.h5\", \"r+\")"
   ]
  },
  {
   "cell_type": "code",
   "execution_count": 32,
   "id": "30d5a127-0562-44d3-9049-fb51f81f6c9d",
   "metadata": {},
   "outputs": [
    {
     "data": {
      "text/plain": [
       "h5py._hl.attrs.AttributeManager"
      ]
     },
     "execution_count": 32,
     "metadata": {},
     "output_type": "execute_result"
    }
   ],
   "source": [
    "type(f.attrs)"
   ]
  },
  {
   "cell_type": "markdown",
   "id": "446de934-7acf-45a0-bdee-907289e63f1f",
   "metadata": {},
   "source": [
    "Esta referencia `f.attrs` nos permite manipular los atributos del archivo, es decir, aquellos que estarán asociados al Grupo raíz `/`."
   ]
  },
  {
   "cell_type": "code",
   "execution_count": 33,
   "id": "8896b2ad-665b-4763-8ded-1c7f783263e4",
   "metadata": {},
   "outputs": [
    {
     "data": {
      "text/plain": [
       "<KeysViewHDF5 []>"
      ]
     },
     "execution_count": 33,
     "metadata": {},
     "output_type": "execute_result"
    }
   ],
   "source": [
    "# Podemos consultar los attrs de este grupo:\n",
    "f.attrs.keys()"
   ]
  },
  {
   "cell_type": "code",
   "execution_count": 34,
   "id": "bbf02ceb-c38c-4277-9dd1-596bf7ea9be1",
   "metadata": {},
   "outputs": [],
   "source": [
    "# y podemos agregar nuevos:\n",
    "f.attrs[\"Description\"] = \"Este es un archivo de ejemplo creado en clases.\""
   ]
  },
  {
   "cell_type": "code",
   "execution_count": 35,
   "id": "ebfbb78b-b29d-4cc2-9cf6-107220018f4e",
   "metadata": {},
   "outputs": [
    {
     "data": {
      "text/plain": [
       "<KeysViewHDF5 ['Description']>"
      ]
     },
     "execution_count": 35,
     "metadata": {},
     "output_type": "execute_result"
    }
   ],
   "source": [
    "f.attrs.keys()"
   ]
  },
  {
   "cell_type": "code",
   "execution_count": 36,
   "id": "88643e0a-dfc5-4070-910b-30305ba03ae5",
   "metadata": {},
   "outputs": [
    {
     "data": {
      "text/plain": [
       "'Este es un archivo de ejemplo creado en clases.'"
      ]
     },
     "execution_count": 36,
     "metadata": {},
     "output_type": "execute_result"
    }
   ],
   "source": [
    "f.attrs[\"Description\"]"
   ]
  },
  {
   "cell_type": "code",
   "execution_count": 37,
   "id": "b4fe1421-64c5-4873-81cf-892524bd59b2",
   "metadata": {},
   "outputs": [],
   "source": [
    "# Otros ejemplos:\n",
    "f.attrs[\"Fecha\"] = \"2023-11-14\""
   ]
  },
  {
   "cell_type": "code",
   "execution_count": 38,
   "id": "a615a45b-8ee0-4793-8ea6-782f92102cf8",
   "metadata": {},
   "outputs": [],
   "source": [
    "f.attrs[\"numeroEntero\"] = 7"
   ]
  },
  {
   "cell_type": "code",
   "execution_count": 39,
   "id": "e2af9ab8-5978-4d25-b04d-6b32d3f6109b",
   "metadata": {},
   "outputs": [
    {
     "data": {
      "text/plain": [
       "<KeysViewHDF5 ['Description', 'Fecha', 'numeroEntero']>"
      ]
     },
     "execution_count": 39,
     "metadata": {},
     "output_type": "execute_result"
    }
   ],
   "source": [
    "f.attrs.keys()"
   ]
  },
  {
   "cell_type": "code",
   "execution_count": 40,
   "id": "440ae2e1-6ef8-4074-a9a0-fbff37018196",
   "metadata": {},
   "outputs": [
    {
     "name": "stdout",
     "output_type": "stream",
     "text": [
      "Description = Este es un archivo de ejemplo creado en clases.\n",
      "Fecha = 2023-11-14\n",
      "numeroEntero = 7\n"
     ]
    }
   ],
   "source": [
    "# Los mostramos todos:\n",
    "for k in f.attrs.keys(): print(k, \"=\", f.attrs[k])"
   ]
  },
  {
   "cell_type": "markdown",
   "id": "30f5add6-dad8-4833-9a4b-950e682310f2",
   "metadata": {},
   "source": [
    "Los atributos pueden estar asociados a cualquier Grupo o Dataset de un HDF5:"
   ]
  },
  {
   "cell_type": "code",
   "execution_count": 41,
   "id": "319d870f-1c89-4eee-b328-78d12dc13e1e",
   "metadata": {},
   "outputs": [
    {
     "data": {
      "text/plain": [
       "<KeysViewHDF5 []>"
      ]
     },
     "execution_count": 41,
     "metadata": {},
     "output_type": "execute_result"
    }
   ],
   "source": [
    "# Ej. agregamos información a nuestro grupo \"Header\":\n",
    "f['Header'].attrs.keys()"
   ]
  },
  {
   "cell_type": "code",
   "execution_count": 42,
   "id": "caf5ed3c-7a44-4cec-a4bd-df3f6b9b3046",
   "metadata": {},
   "outputs": [],
   "source": [
    "# método 1:\n",
    "f['Header'].attrs[\"Clase\"] = \"HCAI 2023\""
   ]
  },
  {
   "cell_type": "code",
   "execution_count": 43,
   "id": "650bd4bd-be78-4929-a8a2-e471a16524fb",
   "metadata": {},
   "outputs": [],
   "source": [
    "# método 2:\n",
    "g = f['Header']\n",
    "g.attrs[\"Clima\"] = \"Sunny\""
   ]
  },
  {
   "cell_type": "code",
   "execution_count": 44,
   "id": "b9eeb228-29a1-4099-801f-9af3b0c736cf",
   "metadata": {},
   "outputs": [],
   "source": [
    "# método 3:\n",
    "a = g.attrs\n",
    "# también: a = f['Header'].attrs\n",
    "a[\"Hora\"] = \"12:44\""
   ]
  },
  {
   "cell_type": "code",
   "execution_count": 45,
   "id": "5b1281a6-512f-4fec-a7b8-0357193cc30c",
   "metadata": {},
   "outputs": [
    {
     "data": {
      "text/plain": [
       "<KeysViewHDF5 ['Clase', 'Clima', 'Hora']>"
      ]
     },
     "execution_count": 45,
     "metadata": {},
     "output_type": "execute_result"
    }
   ],
   "source": [
    "# Consultamos los atributos creados:\n",
    "f['Header'].attrs.keys()"
   ]
  },
  {
   "cell_type": "code",
   "execution_count": 46,
   "id": "ea81edf5-c8ce-4feb-94b0-936797e02baa",
   "metadata": {},
   "outputs": [
    {
     "name": "stdout",
     "output_type": "stream",
     "text": [
      "Clase = HCAI 2023\n",
      "Clima = Sunny\n",
      "Hora = 12:44\n"
     ]
    }
   ],
   "source": [
    "# Los mostramos todos:\n",
    "for k in f['Header'].attrs.keys(): print(k, \"=\", f['Header'].attrs[k])"
   ]
  },
  {
   "cell_type": "code",
   "execution_count": 47,
   "id": "bd2368eb-92c8-4a64-ba0c-abe21732b3d5",
   "metadata": {},
   "outputs": [],
   "source": [
    "# De la misma forma, también podemos asociar atributos a un dataset:\n",
    "f['rand1'].attrs['Description'] = \"Array de números aleatorios que siguen una distribución normal con sigma en 0\""
   ]
  },
  {
   "cell_type": "code",
   "execution_count": 48,
   "id": "71e7ec72-2afe-4743-acd7-7a87d63701d4",
   "metadata": {},
   "outputs": [],
   "source": [
    "f.close()"
   ]
  },
  {
   "cell_type": "code",
   "execution_count": null,
   "id": "a6b8b046-a6e1-437d-9436-b4042ab7637b",
   "metadata": {},
   "outputs": [],
   "source": []
  }
 ],
 "metadata": {
  "kernelspec": {
   "display_name": "Python 3 (ipykernel)",
   "language": "python",
   "name": "python3"
  },
  "language_info": {
   "codemirror_mode": {
    "name": "ipython",
    "version": 3
   },
   "file_extension": ".py",
   "mimetype": "text/x-python",
   "name": "python",
   "nbconvert_exporter": "python",
   "pygments_lexer": "ipython3",
   "version": "3.11.5"
  }
 },
 "nbformat": 4,
 "nbformat_minor": 5
}
