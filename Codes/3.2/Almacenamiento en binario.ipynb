{
 "cells": [
  {
   "cell_type": "markdown",
   "id": "a7e562c7-6fcd-442a-be34-050800968ef3",
   "metadata": {},
   "source": [
    "Utilizaremos Python para crear y luego leer un archivo en formato \"binario\""
   ]
  },
  {
   "cell_type": "markdown",
   "id": "491d52b5-986d-4445-b7b4-39d1f999cf9d",
   "metadata": {},
   "source": [
    "Primero leamos el archivo creado con anterioridad:"
   ]
  },
  {
   "cell_type": "code",
   "execution_count": 1,
   "id": "ae6abf8b-676a-4d96-b8ae-30be368fb0b2",
   "metadata": {},
   "outputs": [],
   "source": [
    "import numpy as np\n",
    "\n",
    "rand1 = np.loadtxt(\"datos.txt\", usecols=[1], unpack=True)"
   ]
  },
  {
   "cell_type": "code",
   "execution_count": 4,
   "id": "9d634405-d83f-4690-b5ca-73a696079585",
   "metadata": {},
   "outputs": [
    {
     "data": {
      "text/plain": [
       "(1500000,)"
      ]
     },
     "execution_count": 4,
     "metadata": {},
     "output_type": "execute_result"
    }
   ],
   "source": [
    "# Esto tiene esta cantidad de datos:\n",
    "rand1.shape"
   ]
  },
  {
   "cell_type": "code",
   "execution_count": 5,
   "id": "0a969aca-3d25-494c-881d-2324f7b4ffe9",
   "metadata": {},
   "outputs": [],
   "source": [
    "idxs = np.arange(rand1.shape[0])"
   ]
  },
  {
   "cell_type": "markdown",
   "id": "4ddb26ab-d8db-4067-a595-c1c24c9e648c",
   "metadata": {},
   "source": [
    "### Un ejemplo básico:"
   ]
  },
  {
   "cell_type": "code",
   "execution_count": 8,
   "id": "365538db-ae38-4315-90cc-dccbbe0c401a",
   "metadata": {},
   "outputs": [],
   "source": [
    "import struct "
   ]
  },
  {
   "cell_type": "code",
   "execution_count": 14,
   "id": "1a736d98-d477-4842-9083-53cb4c5af4d1",
   "metadata": {},
   "outputs": [],
   "source": [
    "dato1 = 5"
   ]
  },
  {
   "cell_type": "code",
   "execution_count": 21,
   "id": "733ab17f-c7c4-4f43-9280-b3c45483d823",
   "metadata": {},
   "outputs": [],
   "source": [
    "dato1_bin = struct.pack('i', dato1)"
   ]
  },
  {
   "cell_type": "code",
   "execution_count": 22,
   "id": "2b034dee-59ba-4fa6-8bd6-bdc8cd43cf5e",
   "metadata": {},
   "outputs": [
    {
     "name": "stdout",
     "output_type": "stream",
     "text": [
      "b'\\x05\\x00\\x00\\x00'\n"
     ]
    }
   ],
   "source": [
    "# si lo imprimimos, mostrará datos de memoria en lenguaje máquina:\n",
    "print(dato1_bin)"
   ]
  },
  {
   "cell_type": "code",
   "execution_count": 27,
   "id": "c360b69c-7837-4c3b-ad27-5f0f6d00f14f",
   "metadata": {},
   "outputs": [
    {
     "name": "stdout",
     "output_type": "stream",
     "text": [
      "b'ff\\xb6@'\n"
     ]
    }
   ],
   "source": [
    "# Veamos como se hace con un flotante:\n",
    "dato2 = 5.7\n",
    "dato2_bin = struct.pack('f', dato2)\n",
    "print(dato2_bin)"
   ]
  },
  {
   "cell_type": "markdown",
   "id": "09d28031-fc77-42af-9a66-24c51bff81fb",
   "metadata": {},
   "source": [
    "Probemos guardar nuestro array de datos aleatorios:"
   ]
  },
  {
   "cell_type": "code",
   "execution_count": 30,
   "id": "c0269450-5174-400a-aef1-d366896d3148",
   "metadata": {},
   "outputs": [],
   "source": [
    "with open(\"dos_numeros.cvm\", \"wb\") as f:\n",
    "    f.write(dato1_bin)\n",
    "    f.write(dato2_bin)"
   ]
  },
  {
   "cell_type": "markdown",
   "id": "fdc15ef7-2cee-484d-a523-a44bab1d2e6c",
   "metadata": {},
   "source": [
    "Como resultado, nuestro archivo tiene exactamente 8 bytes, donde 4 corresponden al entero, y 4 al flotante."
   ]
  },
  {
   "cell_type": "markdown",
   "id": "1039be71-3c45-457b-9747-689faddce706",
   "metadata": {},
   "source": [
    "De la misma forma, podemos leer el archivo:"
   ]
  },
  {
   "cell_type": "code",
   "execution_count": 31,
   "id": "419fc81d-2c69-4bb6-b06b-33476fc07017",
   "metadata": {},
   "outputs": [],
   "source": [
    "with open(\"dos_numeros.cvm\", \"rb\") as f:\n",
    "    number_bin = f.read()"
   ]
  },
  {
   "cell_type": "code",
   "execution_count": 34,
   "id": "7299e3d0-1b08-4ab0-b532-768363958c78",
   "metadata": {},
   "outputs": [],
   "source": [
    "numbers = struct.unpack('if', number_bin)"
   ]
  },
  {
   "cell_type": "code",
   "execution_count": 35,
   "id": "bced5117-d414-4e4a-ad95-28a784099caf",
   "metadata": {},
   "outputs": [
    {
     "data": {
      "text/plain": [
       "(5, 5.699999809265137)"
      ]
     },
     "execution_count": 35,
     "metadata": {},
     "output_type": "execute_result"
    }
   ],
   "source": [
    "numbers"
   ]
  },
  {
   "cell_type": "markdown",
   "id": "edd77de1-3ee7-4363-bab9-f3944331ab1c",
   "metadata": {},
   "source": [
    "### Archivo \"masivo\" en binario:"
   ]
  },
  {
   "cell_type": "markdown",
   "id": "da3837b2-2ea4-4ead-9f98-bdf4295c040b",
   "metadata": {},
   "source": [
    "Ahora probemos guardar el array del archivo original:"
   ]
  },
  {
   "cell_type": "code",
   "execution_count": 38,
   "id": "c9554009-52de-4b61-8b4d-15bd72e428a3",
   "metadata": {},
   "outputs": [],
   "source": [
    "with open(\"datos.bin\", \"wb\") as f:\n",
    "    for value in idxs:\n",
    "        bin_data = struct.pack(\"f\", value)\n",
    "        f.write(bin_data)\n",
    "    for value in rand1:\n",
    "        bin_data = struct.pack(\"f\", value)\n",
    "        f.write(bin_data)"
   ]
  },
  {
   "cell_type": "markdown",
   "id": "ef000736-b332-4c71-b2a7-a2fe21de96cb",
   "metadata": {},
   "source": [
    "La lectura del archivo que creamos queda de ejercicio para el lector :)"
   ]
  },
  {
   "cell_type": "code",
   "execution_count": null,
   "id": "be3826a2-7c06-4e9a-8c1b-6f4f409b8866",
   "metadata": {},
   "outputs": [],
   "source": []
  },
  {
   "cell_type": "code",
   "execution_count": null,
   "id": "f843a0c5-25f9-455f-ab5f-196de7d39f59",
   "metadata": {},
   "outputs": [],
   "source": []
  },
  {
   "cell_type": "code",
   "execution_count": null,
   "id": "4bc9c24d-2ed5-46dc-bea7-63b041d8cc45",
   "metadata": {},
   "outputs": [],
   "source": []
  }
 ],
 "metadata": {
  "kernelspec": {
   "display_name": "Python 3 (ipykernel)",
   "language": "python",
   "name": "python3"
  },
  "language_info": {
   "codemirror_mode": {
    "name": "ipython",
    "version": 3
   },
   "file_extension": ".py",
   "mimetype": "text/x-python",
   "name": "python",
   "nbconvert_exporter": "python",
   "pygments_lexer": "ipython3",
   "version": "3.11.5"
  }
 },
 "nbformat": 4,
 "nbformat_minor": 5
}
