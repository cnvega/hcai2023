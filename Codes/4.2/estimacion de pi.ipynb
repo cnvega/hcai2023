{
 "cells": [
  {
   "cell_type": "markdown",
   "id": "03b26e8a-9a38-48e6-9bf8-26fd4e330d02",
   "metadata": {},
   "source": [
    "## Estimación de $\\pi$\n",
    "\n",
    "Estimaremos $\\pi$ utilizando un método de Monte Carlo: cuadrado que circunscribe un círculo de radio 1."
   ]
  },
  {
   "cell_type": "markdown",
   "id": "bb697146-07ac-45b0-b353-040e776522d1",
   "metadata": {},
   "source": [
    "#### Dominio y PDF\n",
    "\n",
    "Generaremos una colección de $N$ puntos $(x, y)$, donde tanto $x$ como $y$ serán variables aleatorias en el intervalo $[0, 1]$ que seguirán una distribución de probabilidad uniforme. Es decir: $P(x) \\equiv U(x)$ y $P(y) \\equiv U(y)$."
   ]
  },
  {
   "cell_type": "code",
   "execution_count": 1,
   "id": "a5d17617-ca30-4c3d-8692-d66ffa8572f8",
   "metadata": {},
   "outputs": [],
   "source": [
    "import random as rnd"
   ]
  },
  {
   "cell_type": "code",
   "execution_count": 3,
   "id": "ff84e945-9a45-471a-925a-3cdfcc404231",
   "metadata": {},
   "outputs": [],
   "source": [
    "# Creamos nuestra generadora de puntos:\n",
    "def new_point():\n",
    "    x = rnd.uniform(0, 1)\n",
    "    y = rnd.uniform(0, 1)\n",
    "    return x, y"
   ]
  },
  {
   "cell_type": "markdown",
   "id": "cd76717a-257b-4f81-995e-746026aefa35",
   "metadata": {},
   "source": [
    "#### Identificación de pertenencia al círculo\n",
    "Generamos un cálculo que nos permita determinar si un punto está en el círculo:"
   ]
  },
  {
   "cell_type": "code",
   "execution_count": 5,
   "id": "1376cb9f-8027-4b9a-ad5e-9ae3c1b75702",
   "metadata": {},
   "outputs": [],
   "source": [
    "# Dado un punto, retorna True o False según si está en el círculo:\n",
    "def check_circle(p):\n",
    "    r = (p[0]**2 + p[1]**2)**0.5\n",
    "    return (r <= 1.0)"
   ]
  },
  {
   "cell_type": "markdown",
   "id": "a96fa3e4-9fce-4391-905b-7bcbb3863642",
   "metadata": {},
   "source": [
    "#### Iteración del experimento"
   ]
  },
  {
   "cell_type": "markdown",
   "id": "a0523b23-6749-4b2a-8408-c111352f7384",
   "metadata": {},
   "source": [
    "Almacenamos $n_i$ y $r_i$ con $i=1..N$, donde $N$ es el número máximo de puntos a generar"
   ]
  },
  {
   "cell_type": "code",
   "execution_count": 6,
   "id": "fbc60bb8-603e-467f-b98d-9e4a1efb4e23",
   "metadata": {},
   "outputs": [],
   "source": [
    "import numpy as np"
   ]
  },
  {
   "cell_type": "code",
   "execution_count": 10,
   "id": "2726f04c-0784-4051-89fd-0844d374249a",
   "metadata": {},
   "outputs": [],
   "source": [
    "N = 100000\n",
    "n = np.arange(1, N+1)\n",
    "r = np.zeros_like(n)\n",
    "r_tot = 0\n",
    "\n",
    "for i in range(N):\n",
    "    p = new_point()\n",
    "    if check_circle(p): r_tot += 1\n",
    "    r[i] = r_tot"
   ]
  },
  {
   "cell_type": "markdown",
   "id": "64c78a62-d5b0-400a-81bd-3b6ec355956b",
   "metadata": {},
   "source": [
    "Graficamos la convergencia de $\\pi$:"
   ]
  },
  {
   "cell_type": "code",
   "execution_count": 11,
   "id": "04a9e8cb-d4d0-402b-9b48-f07854fb61af",
   "metadata": {},
   "outputs": [],
   "source": [
    "import matplotlib.pyplot as plt\n",
    "\n",
    "from math import pi"
   ]
  },
  {
   "cell_type": "code",
   "execution_count": 12,
   "id": "5fe2508e-2ad4-4cef-b027-77f274b160df",
   "metadata": {},
   "outputs": [
    {
     "data": {
      "image/png": "[encoded data removed]",
      "text/plain": [
       "<Figure size 640x480 with 1 Axes>"
      ]
     },
     "metadata": {},
     "output_type": "display_data"
    }
   ],
   "source": [
    "fig, ax = plt.subplots()\n",
    "\n",
    "ax.plot(n, 4*r/n, 'r-')\n",
    "ax.plot([0,N],[pi]*2, 'b--', zorder=1)\n",
    "ax.set_xlabel(r\"$n$\")\n",
    "ax.set_ylabel(r\"$4*r/n$\")\n",
    "ax.set_xscale('symlog')"
   ]
  },
  {
   "cell_type": "markdown",
   "id": "abdf65ae-ad46-474c-b84d-ba90c04fe1ea",
   "metadata": {},
   "source": [
    "Nuestro último valor de Pi es:"
   ]
  },
  {
   "cell_type": "code",
   "execution_count": 13,
   "id": "42a9849e-b371-4e1f-81ea-1b56082030be",
   "metadata": {},
   "outputs": [
    {
     "data": {
      "text/plain": [
       "3.1504"
      ]
     },
     "execution_count": 13,
     "metadata": {},
     "output_type": "execute_result"
    }
   ],
   "source": [
    "4*r[-1]/n[-1]"
   ]
  },
  {
   "cell_type": "code",
   "execution_count": null,
   "id": "06c5f682-3602-4621-a4c0-2acbf7049732",
   "metadata": {},
   "outputs": [],
   "source": []
  }
 ],
 "metadata": {
  "kernelspec": {
   "display_name": "Python 3 (ipykernel)",
   "language": "python",
   "name": "python3"
  },
  "language_info": {
   "codemirror_mode": {
    "name": "ipython",
    "version": 3
   },
   "file_extension": ".py",
   "mimetype": "text/x-python",
   "name": "python",
   "nbconvert_exporter": "python",
   "pygments_lexer": "ipython3",
   "version": "3.11.5"
  }
 },
 "nbformat": 4,
 "nbformat_minor": 5
}
